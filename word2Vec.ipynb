{
  "nbformat": 4,
  "nbformat_minor": 0,
  "metadata": {
    "colab": {
      "name": "task8_teslim2.ipynb",
      "provenance": []
    },
    "kernelspec": {
      "display_name": "Python 3",
      "name": "python3"
    }
  },
  "cells": [
    {
      "cell_type": "code",
      "metadata": {
        "colab": {
          "background_save": true,
          "base_uri": "https://localhost:8080/"
        },
        "id": "kwrAF8I3puUd",
        "outputId": "b8f9e52b-15d6-4917-fbbe-2de85b0340a0"
      },
      "source": [
        "from gensim.models import Word2Vec\r\n",
        "from nltk import word_tokenize,sent_tokenize \r\n",
        "from nltk.stem import PorterStemmer \r\n",
        "import nltk\r\n",
        "from nltk.corpus import stopwords\r\n",
        "import nltk\r\n",
        "nltk.download('punkt')"
      ],
      "execution_count": null,
      "outputs": [
        {
          "output_type": "stream",
          "text": [
            "[nltk_data] Downloading package punkt to /root/nltk_data...\n",
            "[nltk_data]   Package punkt is already up-to-date!\n"
          ],
          "name": "stdout"
        },
        {
          "output_type": "execute_result",
          "data": {
            "text/plain": [
              "True"
            ]
          },
          "metadata": {
            "tags": []
          },
          "execution_count": 0
        }
      ]
    },
    {
      "cell_type": "code",
      "metadata": {
        "colab": {
          "background_save": true,
          "base_uri": "https://localhost:8080/"
        },
        "id": "YGFM8tDTp0O-",
        "outputId": "316d956d-a262-443f-fb04-f4db68b1cf48"
      },
      "source": [
        "nltk.download('stopwords') \r\n",
        "ps = PorterStemmer() "
      ],
      "execution_count": null,
      "outputs": [
        {
          "output_type": "stream",
          "text": [
            "[nltk_data] Downloading package stopwords to /root/nltk_data...\n",
            "[nltk_data]   Package stopwords is already up-to-date!\n"
          ],
          "name": "stdout"
        }
      ]
    },
    {
      "cell_type": "code",
      "metadata": {
        "colab": {
          "background_save": true,
          "base_uri": "https://localhost:8080/"
        },
        "id": "9X3pXUFVp2yk",
        "outputId": "6e1baa79-820e-4a59-9156-54d3e99df075"
      },
      "source": [
        "from google.colab import drive\r\n",
        "drive.mount('/content/drive')"
      ],
      "execution_count": null,
      "outputs": [
        {
          "output_type": "stream",
          "text": [
            "Drive already mounted at /content/drive; to attempt to forcibly remount, call drive.mount(\"/content/drive\", force_remount=True).\n"
          ],
          "name": "stdout"
        }
      ]
    },
    {
      "cell_type": "code",
      "metadata": {
        "colab": {
          "base_uri": "https://localhost:8080/"
        },
        "id": "I7uZIpfZp4c0",
        "outputId": "8c92638c-b29e-4dab-9145-da59a3693663"
      },
      "source": [
        "\r\n",
        "f = open('/content/drive/My Drive/asile/new_text.txt', 'r')\r\n",
        "text = f.read()\r\n",
        "corpuss=sent_tokenize(text)\r\n",
        "corpuss"
      ],
      "execution_count": null,
      "outputs": [
        {
          "output_type": "execute_result",
          "data": {
            "text/plain": [
              "['\\nI love this thing!',\n",
              " 'I love this song!',\n",
              " 'Love this product.',\n",
              " \"I hope you're making the right choice.\",\n",
              " \"That's not disciprine.\"]"
            ]
          },
          "metadata": {
            "tags": []
          },
          "execution_count": 21
        }
      ]
    },
    {
      "cell_type": "code",
      "metadata": {
        "id": "RuqQXzV0qCo0"
      },
      "source": [
        "corpus = []\r\n",
        "\r\n",
        "for cumle in corpuss:\r\n",
        "    corpus.append(cumle.split())"
      ],
      "execution_count": null,
      "outputs": []
    },
    {
      "cell_type": "code",
      "metadata": {
        "id": "8IXSOaOhqLDU"
      },
      "source": [
        "from sklearn.metrics.pairwise import cosine_similarity\r\n",
        "from sklearn.feature_extraction.text import CountVectorizer\r\n",
        "import pandas as pd\r\n",
        "\r\n",
        "def cosinus(value):\r\n",
        "    count_vectorizer = CountVectorizer()\r\n",
        "    sparse_matrix = count_vectorizer.fit_transform(value)\r\n",
        "    doc_term_matrix = sparse_matrix.todense()\r\n",
        "    df = pd.DataFrame(doc_term_matrix,\r\n",
        "                  columns=count_vectorizer.get_feature_names(), \r\n",
        "                  index= [value])\r\n",
        "    #print(df.head())\r\n",
        "    cos = cosine_similarity(df, df)\r\n",
        "    cosDf = pd.DataFrame(cos , columns = [value] , index= [value])\r\n",
        "    #print(cosDf.head())\r\n",
        "    return cosDf"
      ],
      "execution_count": null,
      "outputs": []
    },
    {
      "cell_type": "code",
      "metadata": {
        "colab": {
          "base_uri": "https://localhost:8080/",
          "height": 203
        },
        "id": "ChOyoDosqQ70",
        "outputId": "3d1b7a4e-e654-494c-b53e-476eae440fa0"
      },
      "source": [
        "cosinus(corpuss)"
      ],
      "execution_count": null,
      "outputs": [
        {
          "output_type": "execute_result",
          "data": {
            "text/html": [
              "<div>\n",
              "<style scoped>\n",
              "    .dataframe tbody tr th:only-of-type {\n",
              "        vertical-align: middle;\n",
              "    }\n",
              "\n",
              "    .dataframe tbody tr th {\n",
              "        vertical-align: top;\n",
              "    }\n",
              "\n",
              "    .dataframe thead tr th {\n",
              "        text-align: left;\n",
              "    }\n",
              "</style>\n",
              "<table border=\"1\" class=\"dataframe\">\n",
              "  <thead>\n",
              "    <tr>\n",
              "      <th></th>\n",
              "      <th>\\nI love this thing!</th>\n",
              "      <th>I love this song!</th>\n",
              "      <th>Love this product.</th>\n",
              "      <th>I hope you're making the right choice.</th>\n",
              "      <th>That's not disciprine.</th>\n",
              "    </tr>\n",
              "  </thead>\n",
              "  <tbody>\n",
              "    <tr>\n",
              "      <th>\\nI love this thing!</th>\n",
              "      <td>1.000000</td>\n",
              "      <td>0.666667</td>\n",
              "      <td>0.666667</td>\n",
              "      <td>0.0</td>\n",
              "      <td>0.0</td>\n",
              "    </tr>\n",
              "    <tr>\n",
              "      <th>I love this song!</th>\n",
              "      <td>0.666667</td>\n",
              "      <td>1.000000</td>\n",
              "      <td>0.666667</td>\n",
              "      <td>0.0</td>\n",
              "      <td>0.0</td>\n",
              "    </tr>\n",
              "    <tr>\n",
              "      <th>Love this product.</th>\n",
              "      <td>0.666667</td>\n",
              "      <td>0.666667</td>\n",
              "      <td>1.000000</td>\n",
              "      <td>0.0</td>\n",
              "      <td>0.0</td>\n",
              "    </tr>\n",
              "    <tr>\n",
              "      <th>I hope you're making the right choice.</th>\n",
              "      <td>0.000000</td>\n",
              "      <td>0.000000</td>\n",
              "      <td>0.000000</td>\n",
              "      <td>1.0</td>\n",
              "      <td>0.0</td>\n",
              "    </tr>\n",
              "    <tr>\n",
              "      <th>That's not disciprine.</th>\n",
              "      <td>0.000000</td>\n",
              "      <td>0.000000</td>\n",
              "      <td>0.000000</td>\n",
              "      <td>0.0</td>\n",
              "      <td>1.0</td>\n",
              "    </tr>\n",
              "  </tbody>\n",
              "</table>\n",
              "</div>"
            ],
            "text/plain": [
              "                                       \\nI love this thing!  ... That's not disciprine.\n",
              "\\nI love this thing!                               1.000000  ...                    0.0\n",
              "I love this song!                                  0.666667  ...                    0.0\n",
              "Love this product.                                 0.666667  ...                    0.0\n",
              "I hope you're making the right choice.             0.000000  ...                    0.0\n",
              "That's not disciprine.                             0.000000  ...                    1.0\n",
              "\n",
              "[5 rows x 5 columns]"
            ]
          },
          "metadata": {
            "tags": []
          },
          "execution_count": 20
        }
      ]
    },
    {
      "cell_type": "code",
      "metadata": {
        "id": "zMC5cxjSqVuk"
      },
      "source": [
        ""
      ],
      "execution_count": null,
      "outputs": []
    }
  ]
}
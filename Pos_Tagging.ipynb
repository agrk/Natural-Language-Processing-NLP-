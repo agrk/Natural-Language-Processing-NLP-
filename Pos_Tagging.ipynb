{
 "cells": [
  {
   "cell_type": "code",
   "execution_count": 11,
   "metadata": {},
   "outputs": [],
   "source": [
    "f = open(\"TASK3-corpus1.txt\", \"r\")\n",
    "df=f.read()\n",
    "f2 = open(\"TASK3-corpus2.txt\", \"r\")\n",
    "df2=f2.read()"
   ]
  },
  {
   "cell_type": "code",
   "execution_count": 12,
   "metadata": {},
   "outputs": [],
   "source": [
    "import re\n",
    "import unicodedata\n",
    "import nltk\n",
    "from nltk.corpus import stopwords\n",
    "from collections import Counter"
   ]
  },
  {
   "cell_type": "code",
   "execution_count": 13,
   "metadata": {},
   "outputs": [],
   "source": [
    "def basic_clean(text):\n",
    "    \n",
    "    wnl = nltk.stem.WordNetLemmatizer()\n",
    "    stopwords = nltk.corpus.stopwords.words('english') \n",
    "    words = re.sub(r'[^\\w\\s]', '', text).split()\n",
    "    return [wnl.lemmatize(word) for word in words if word not in stopwords]"
   ]
  },
  {
   "cell_type": "code",
   "execution_count": 14,
   "metadata": {},
   "outputs": [],
   "source": [
    " '''we create ngram function. So, I want to apply ngrams analysis in both copurs\n",
    "    such that unigram,bigram and trigram. '''\n",
    "\n",
    "def ngram(words,n,p):\n",
    "    gram=nltk.ngrams(words,n)                       \n",
    "    gramFrequency=Counter(gram)\n",
    "    valuesOfgrams=list(gramFrequency.values())\n",
    "    gramlist=list(gramFrequency)\n",
    "\n",
    "    for x in range(0,len(gramlist)):\n",
    "        if(valuesOfgrams[x]>p):\n",
    "            print(gramlist[x],\"is used\",valuesOfgrams[x],\"times\")"
   ]
  },
  {
   "cell_type": "code",
   "execution_count": 15,
   "metadata": {},
   "outputs": [],
   "source": [
    "words=basic_clean(df)\n",
    "words2=basic_clean(df2)"
   ]
  },
  {
   "cell_type": "code",
   "execution_count": 16,
   "metadata": {},
   "outputs": [
    {
     "name": "stdout",
     "output_type": "stream",
     "text": [
      "('03August2004',) is used 79 times\n",
      "('I',) is used 26 times\n",
      "('since',) is used 12 times\n",
      "('seems',) is used 10 times\n",
      "('urlLink',) is used 103 times\n",
      "('time',) is used 15 times\n",
      "('Google',) is used 10 times\n",
      "('1',) is used 7 times\n",
      "('would',) is used 11 times\n",
      "('new',) is used 17 times\n",
      "('nice',) is used 12 times\n",
      "('great',) is used 8 times\n",
      "('It',) is used 13 times\n",
      "('feature',) is used 8 times\n",
      "('already',) is used 8 times\n",
      "('like',) is used 10 times\n",
      "('The',) is used 15 times\n",
      "('look',) is used 8 times\n"
     ]
    }
   ],
   "source": [
    "ngram(words,1,6) #unigram for corpus1"
   ]
  },
  {
   "cell_type": "code",
   "execution_count": 17,
   "metadata": {},
   "outputs": [
    {
     "name": "stdout",
     "output_type": "stream",
     "text": [
      "('blog',) is used 11 times\n",
      "('think',) is used 15 times\n",
      "('way',) is used 8 times\n",
      "('life',) is used 12 times\n",
      "('person',) is used 7 times\n",
      "('time',) is used 10 times\n",
      "('I',) is used 61 times\n",
      "('get',) is used 13 times\n",
      "('coffee',) is used 11 times\n",
      "('count',) is used 9 times\n",
      "('The',) is used 9 times\n",
      "('write',) is used 9 times\n",
      "('one',) is used 18 times\n",
      "('find',) is used 9 times\n",
      "('would',) is used 10 times\n",
      "('like',) is used 8 times\n",
      "('people',) is used 7 times\n",
      "('It',) is used 12 times\n",
      "('love',) is used 10 times\n",
      "('someone',) is used 8 times\n",
      "('ever',) is used 8 times\n",
      "('thing',) is used 8 times\n",
      "('real',) is used 7 times\n",
      "('put',) is used 7 times\n"
     ]
    }
   ],
   "source": [
    "ngram(words2,1,6) #unigram for corpus2"
   ]
  },
  {
   "cell_type": "code",
   "execution_count": 18,
   "metadata": {},
   "outputs": [
    {
     "name": "stdout",
     "output_type": "stream",
     "text": [
      "('03August2004', 'I') is used 5 times\n",
      "('03August2004', 'urlLink') is used 28 times\n"
     ]
    }
   ],
   "source": [
    "ngram(words,2,4) #bigram for corpus1"
   ]
  },
  {
   "cell_type": "code",
   "execution_count": 19,
   "metadata": {},
   "outputs": [
    {
     "name": "stdout",
     "output_type": "stream",
     "text": [
      "('coffee', 'count') is used 9 times\n",
      "('I', 'guess') is used 5 times\n",
      "('I', 'think') is used 6 times\n"
     ]
    }
   ],
   "source": [
    "ngram(words2,2,4) #bigram for corpus2"
   ]
  },
  {
   "cell_type": "code",
   "execution_count": 20,
   "metadata": {},
   "outputs": [
    {
     "name": "stdout",
     "output_type": "stream",
     "text": [
      "('1', '12', 'month') is used 2 times\n",
      "('know', '03August2004', 'urlLink') is used 2 times\n",
      "('03August2004', 'urlLink', 'I') is used 2 times\n",
      "('03August2004', 'urlLink', 'Why') is used 2 times\n",
      "('Im', 'loving', '03August2004') is used 2 times\n",
      "('03August2004', 'urlLink', 'The') is used 2 times\n",
      "('03August2004', 'I', 'love') is used 2 times\n",
      "('urlLink', 'iTunes', 'Music') is used 2 times\n",
      "('iTunes', 'Music', 'Store') is used 2 times\n",
      "('google', 'still', 'ignoring') is used 2 times\n"
     ]
    }
   ],
   "source": [
    "ngram(words,3,1) #trigram for corpus1"
   ]
  },
  {
   "cell_type": "code",
   "execution_count": 21,
   "metadata": {},
   "outputs": [
    {
     "name": "stdout",
     "output_type": "stream",
     "text": [
      "('coffee', 'count', 'X') is used 2 times\n",
      "('I', 'came', 'back') is used 2 times\n",
      "('coffee', 'count', 'XX') is used 2 times\n",
      "('13March2003', 'coffee', 'count') is used 2 times\n",
      "('coffee', 'count', 'XXX') is used 2 times\n",
      "('need', 'lover', 'I') is used 2 times\n",
      "('coffee', 'count', 'XXXX') is used 3 times\n",
      "('I', 'think', 'need') is used 2 times\n",
      "('I', 'dont', 'think') is used 2 times\n",
      "('put', 'soo', 'much') is used 2 times\n",
      "('soo', 'much', 'emphasis') is used 2 times\n",
      "('much', 'emphasis', 'physical') is used 2 times\n",
      "('emphasis', 'physical', 'appearance') is used 2 times\n",
      "('comment', 'system', 'running') is used 2 times\n",
      "('put', 'comment', 'system') is used 2 times\n",
      "('put', 'comment', 'blog') is used 2 times\n"
     ]
    }
   ],
   "source": [
    "ngram(words2,3,1) #trigram for corpus2"
   ]
  },
  {
   "cell_type": "code",
   "execution_count": 38,
   "metadata": {},
   "outputs": [],
   "source": [
    "def pos_tagging(words):\n",
    "    tagged = nltk.pos_tag(words)    #afer n-gram analysis, we can apply pos tagging on the corpuses we have\n",
    "    print(tagged)\n",
    "    return tagged"
   ]
  },
  {
   "cell_type": "code",
   "execution_count": 39,
   "metadata": {},
   "outputs": [],
   "source": [
    "def counter(pos_tagging):\n",
    "    counts=Counter(tag for word,tag in pos_tagging)\n",
    "    return counts"
   ]
  },
  {
   "cell_type": "code",
   "execution_count": 40,
   "metadata": {},
   "outputs": [
    {
     "name": "stdout",
     "output_type": "stream",
     "text": [
      "[('03August2004', 'CD'), ('Am', 'NNP'), ('back', 'RB'), ('beach', 'NN'), ('Sun', 'NNP'), ('didnt', 'NN'), ('shine', 'NN'), ('drank', 'NN'), ('lot', 'NN'), ('beer', 'NN'), ('gotten', 'VBN'), ('way', 'NN'), ('fat', 'NN'), ('I', 'PRP'), ('going', 'VBG'), ('start', 'JJ'), ('diat', 'NN'), ('kind', 'NN'), ('hard', 'JJ'), ('since', 'IN'), ('still', 'RB'), ('dont', 'VB'), ('smoke', 'NN'), ('Strangely', 'RB'), ('nothing', 'NN'), ('seems', 'VBZ'), ('happend', 'JJ'), ('newsless', 'NN'), ('week', 'NN'), ('03August2004', 'CD'), ('I', 'PRP'), ('vacation', 'NN'), ('We', 'PRP'), ('going', 'VBG'), ('wedding', 'VBG'), ('friend', 'NN'), ('evening', 'VBG'), ('plane', 'NN'), ('Saturday', 'NNP'), ('morning', 'NN'), ('In', 'IN'), ('morning', 'NN'), ('meaning', 'NN'), ('5', 'CD'), ('usually', 'RB'), ('sound', 'JJ'), ('asleep', 'JJ'), ('Relaxing', 'NNP'), ('urlLink', 'NN'), ('beach', 'NN'), ('03August2004', 'CD'), ('spare', 'JJ'), ('time', 'NN'), ('weekend', 'NN'), ('Bored', 'NNP'), ('TV', 'NNP'), ('XBox', 'NNP'), ('Why', 'WRB'), ('go', 'VBP'), ('ahead', 'RB'), ('try', 'VB'), ('crack', 'NN'), ('urlLink', 'VBP'), ('famous', 'JJ'), ('unsolved', 'JJ'), ('code', 'NN'), ('cipher', 'NN'), ('That', 'WDT'), ('keep', 'VB'), ('entertained', 'VBD'), ('time', 'NN'), ('03August2004', 'CD'), ('urlLink', 'JJ'), ('224817', 'CD'), ('OL2000', 'NNP'), ('Transport', 'NNP'), ('Neutral', 'NNP'), ('Encapsulation', 'NNP'), ('Format', 'NNP'), ('TNEF', 'NNP'), ('Basics', 'NNP'), ('Some', 'DT'), ('email', 'VBP'), ('client', 'NN'), ('understand', 'NN'), ('TNEF', 'NNP'), ('encoding', 'NN'), ('used', 'VBN'), ('certain', 'JJ'), ('message', 'NN'), ('received', 'VBD'), ('someone', 'NN'), ('using', 'VBG'), ('Windows', 'NNP'), ('Messaging', 'NNP'), ('Microsoft', 'NNP'), ('Exchange', 'NNP'), ('Please', 'NNP'), ('print', 'NN'), ('read', 'NN'), ('every', 'DT'), ('morning', 'NN'), ('using', 'VBG'), ('microsoft', 'JJ'), ('product', 'NN'), ('mail', 'NN'), ('Or', 'NNP'), ('even', 'RB'), ('better', 'JJR'), ('try', 'NN'), ('use', 'VB'), ('standard', 'JJ'), ('03August2004', 'CD'), ('Is', 'NNP'), ('Gmail', 'NNP'), ('Google', 'NNP'), ('going', 'VBG'), ('urlLink', 'JJ'), ('1', 'CD'), ('Terrabyte', 'NNP'), ('03August2004', 'CD'), ('JP', 'NNP'), ('Brown', 'NNP'), ('urlLink', 'RB'), ('created', 'VBD'), ('robot', 'JJ'), ('LEGO', 'NNP'), ('solve', 'NN'), ('rubiks', 'NN'), ('cube', 'NN'), ('03August2004', 'CD'), ('Ohh', 'NNP'), ('fuck', 'NN'), ('would', 'MD'), ('love', 'VB'), ('smoke', 'NN'), ('Hopefully', 'NNP'), ('read', 'VBD'), ('year', 'NN'), ('laugh', 'RB'), ('Until', 'IN'), ('try', 'VB'), ('remain', 'VBP'), ('calm', 'JJ'), ('03August2004', 'CD'), ('urlLink', 'IN'), ('All', 'DT'), ('previous', 'JJ'), ('picture', 'NN'), ('made', 'VBN'), ('brand', 'NN'), ('new', 'JJ'), ('urlLink', 'JJ'), ('FujiFilm', 'NNP'), ('S5000', 'NNP'), ('A', 'NNP'), ('nice', 'JJ'), ('camera', 'NN'), ('SLRFeeling', 'NNP'), ('great', 'JJ'), ('price', 'NN'), ('It', 'PRP'), ('may', 'MD'), ('technological', 'VB'), ('advanced', 'VBD'), ('camera', 'NN'), ('10', 'CD'), ('MP', 'NNP'), ('10x', 'CD'), ('real', 'JJ'), ('Zoom', 'NNP'), ('nice', 'JJ'), ('feature', 'NN'), ('cost', 'NN'), ('290', 'CD'), ('Euros', 'NNP'), ('great', 'JJ'), ('I', 'PRP'), ('camera', 'VBP'), ('since', 'IN'), ('beginning', 'VBG'), ('April', 'NNP'), ('already', 'RB'), ('kind', 'NN'), ('obsessed', 'VBN'), ('After', 'IN'), ('1200', 'CD'), ('Photos', 'NNP'), ('1', 'CD'), ('12', 'CD'), ('month', 'NN'), ('I', 'PRP'), ('say', 'VBP'), ('Wow', 'JJ'), ('03August2004', 'CD'), ('urlLink', 'JJ'), ('Playing', 'VBG'), ('time', 'NN'), ('website', 'JJ'), ('display', 'NN'), ('time', 'NN'), ('sped', 'VBD'), ('slowed', 'VBD'), ('example', 'NN'), ('03August2004', 'CD'), ('urlLink', 'NN'), ('03August2004', 'CD'), ('urlLink', 'NN'), ('balcony', 'NN'), ('03August2004', 'CD'), ('urlLink', 'JJ'), ('Kids', 'NNP'), ('know', 'VBD'), ('03August2004', 'CD'), ('urlLink', 'NN'), ('I', 'PRP'), ('love', 'VBP'), ('blue', 'JJ'), ('03August2004', 'CD'), ('urlLink', 'JJ'), ('Find', 'NNP'), ('bee', 'NN'), ('03August2004', 'CD'), ('urlLink', 'NN'), ('Its', 'PRP$'), ('spring', 'NN'), ('see', 'NN'), ('03August2004', 'CD'), ('Well', 'NNP'), ('slight', 'JJ'), ('headache', 'NN'), ('gone', 'VBN'), ('still', 'RB'), ('smoking', 'VBG'), ('I', 'PRP'), ('done', 'VBN'), ('always', 'RB'), ('gone', 'VBN'), ('back', 'JJ'), ('Reasons', 'NNP'), ('time', 'NN'), ('Boss', 'NNP'), ('got', 'VBD'), ('lung', 'JJ'), ('cancer', 'NN'), ('Dont', 'NNP'), ('really', 'RB'), ('like', 'IN'), ('smell', 'NN'), ('Cost', 'NNP'), ('cigarretes', 'VBZ'), ('4', 'CD'), ('Euros', 'NNP'), ('pack', 'NN'), ('45', 'CD'), ('better', 'JJR'), ('sex', 'NN'), ('I', 'PRP'), ('seem', 'VBP'), ('getting', 'VBG'), ('along', 'RB'), ('quite', 'RB'), ('well', 'RB'), ('So', 'RB'), ('let', 'VB'), ('see', 'VB'), ('next', 'JJ'), ('day', 'NN'), ('03August2004', 'CD'), ('Didnt', 'NNP'), ('smoke', 'VBD'), ('didnt', 'JJ'), ('drink', 'NN'), ('getting', 'VBG'), ('slight', 'JJ'), ('headache', 'NN'), ('right', 'JJ'), ('side', 'NN'), ('head', 'NN'), ('Thinking', 'VBG'), ('drinking', 'VBG'), ('smoking', 'VBG'), ('03August2004', 'CD'), ('quit', 'NN'), ('smoking', 'NN'), ('dont', 'NN'), ('tell', 'NN'), ('anybody', 'NN'), ('since', 'IN'), ('might', 'MD'), ('fail', 'VB'), ('03August2004', 'CD'), ('urlLink', 'JJ'), ('Why', 'WRB'), ('never', 'RB'), ('urlLink', 'VBP'), ('post', 'JJ'), ('picture', 'NN'), ('internet', 'NN'), ('03August2004', 'CD'), ('Is', 'VBZ'), ('anybody', 'NN'), ('else', 'RB'), ('problem', 'NN'), ('urlLink', 'NN'), ('blogger', 'NN'), ('urlLink', 'VBP'), ('firefox', 'NN'), ('It', 'PRP'), ('sometimes', 'RB'), ('stop', 'VB'), ('load', 'NN'), ('page', 'NN'), ('mess', 'NN'), ('code', 'NN'), ('come', 'VBP'), ('document', 'NN'), ('found', 'VBD'), ('03August2004', 'CD'), ('urlLink', 'JJ'), ('creative', 'JJ'), ('food', 'NN'), ('design', 'NN'), ('urlLink', 'JJ'), ('picture', 'NN'), ('03August2004', 'CD'), ('As', 'IN'), ('see', 'NN'), ('use', 'IN'), ('photo', 'JJ'), ('urlLink', 'JJ'), ('blogger', 'NN'), ('without', 'IN'), ('server', 'NN'), ('upload', 'NN'), ('photo', 'NN'), ('seperately', 'RB'), ('You', 'PRP'), ('download', 'VBP'), ('urlLink', 'JJ'), ('hello', 'NN'), ('select', 'NN'), ('blog', 'NN'), ('select', 'JJ'), ('photo', 'NN'), ('wham', 'NN'), ('ther', 'NN'), ('go', 'VBP'), ('Nice', 'NNP'), ('even', 'RB'), ('though', 'IN'), ('use', 'JJ'), ('personal', 'JJ'), ('photo', 'NN'), ('03August2004', 'CD'), ('urlLink', 'JJ'), ('Thats', 'NNP'), ('call', 'NN'), ('protest', 'NN'), ('03August2004', 'CD'), ('entirely', 'RB'), ('unessesary', 'JJ'), ('detail', 'NN'), ('installed', 'VBN'), ('blogroll', 'NN'), ('since', 'IN'), ('didnt', 'NN'), ('like', 'IN'), ('last', 'JJ'), ('entriesdisplay', 'NN'), ('since', 'IN'), ('showed', 'VBN'), ('excactly', 'RB'), ('entry', 'VBP'), ('main', 'JJ'), ('column', 'NN'), ('03August2004', 'CD'), ('Learned', 'VBD'), ('something', 'NN'), ('funny', 'NN'), ('yesterday', 'NN'), ('My', 'NNP'), ('wife', 'NN'), ('want', 'VBP'), ('anything', 'NN'), ('blue', 'JJ'), ('violet', 'NN'), ('garden', 'NN'), ('I', 'PRP'), ('found', 'VBD'), ('bit', 'RB'), ('strange', 'JJ'), ('firm', 'NN'), ('Seems', 'NNP'), ('strange', 'JJ'), ('didnt', 'NN'), ('know', 'VBP'), ('since', 'IN'), ('living', 'NN'), ('together', 'RB'), ('11', 'CD'), ('year', 'NN'), ('Wondering', 'NNP'), ('else', 'RB'), ('might', 'MD'), ('know', 'VB'), ('03August2004', 'CD'), ('urlLink', 'JJ'), ('Rumsfeld', 'NNP'), ('1000', 'CD'), ('fighting', 'VBG'), ('style', 'NN'), ('03August2004', 'CD'), ('Had', 'NNP'), ('date', 'NN'), ('gardenarchitect', 'NN'), ('She', 'PRP'), ('supposed', 'VBD'), ('create', 'NN'), ('layout', 'NN'), ('garden', 'VBP'), ('What', 'WP'), ('really', 'RB'), ('strange', 'JJ'), ('fact', 'NN'), ('wouldnt', 'NNS'), ('say', 'VBP'), ('anything', 'NN'), ('could', 'MD'), ('get', 'VB'), ('grip', 'NN'), ('For', 'IN'), ('example', 'NN'), ('asked', 'VBN'), ('price', 'NN'), ('would', 'MD'), ('say', 'VB'), ('something', 'NN'), ('along', 'RB'), ('line', 'NN'), ('well', 'RB'), ('garden', 'RB'), ('100000', 'CD'), ('get', 'NN'), ('cheaper', 'JJR'), ('500000', 'CD'), ('If', 'IN'), ('would', 'MD'), ('ask', 'VB'), ('suggestion', 'NN'), ('garden', 'NN'), ('would', 'MD'), ('It', 'PRP'), ('seems', 'VBZ'), ('everybody', 'NN'), ('want', 'VBP'), ('sell', 'NN'), ('something', 'NN'), ('themselfs', 'RB'), ('find', 'VBP'), ('bit', 'JJ'), ('expensive', 'JJ'), ('avoid', 'JJ'), ('price', 'NN'), ('like', 'IN'), ('hot', 'JJ'), ('water', 'NN'), ('03August2004', 'CD'), ('Very', 'NNP'), ('nice', 'JJ'), ('urlLink', 'NN'), ('Photolog', 'NNP'), ('new', 'JJ'), ('shiny', 'JJ'), ('blogger', 'NN'), ('Looks', 'VBZ'), ('like', 'IN'), ('lot', 'NN'), ('work', 'NN'), ('03August2004', 'CD'), ('already', 'RB'), ('tired', 'VBN'), ('going', 'VBG'), ('bed', 'JJ'), ('real', 'JJ'), ('early', 'JJ'), ('today', 'NN'), ('This', 'DT'), ('week', 'NN'), ('full', 'JJ'), ('meeting', 'NN'), ('try', 'VB'), ('catch', 'NN'), ('little', 'JJ'), ('sleep', 'JJ'), ('03August2004', 'CD'), ('It', 'PRP'), ('happen', 'VBD'), ('time', 'NN'), ('urlLink', 'JJ'), ('Google', 'NNP'), ('official', 'NN'), ('urlLink', 'NN'), ('weblog', 'VBD'), ('03August2004', 'CD'), ('Everybody', 'NN'), ('seems', 'VBZ'), ('think', 'VBP'), ('torture', 'NN'), ('scandal', 'NN'), ('something', 'NN'), ('new', 'JJ'), ('known', 'VBN'), ('since', 'IN'), ('CBSReport', 'NNP'), ('60', 'CD'), ('Minutes', 'NNPS'), ('Army', 'NNP'), ('Red', 'NNP'), ('Cross', 'NNP'), ('know', 'VB'), ('long', 'JJ'), ('time', 'NN'), ('urlLink', 'JJ'), ('already', 'RB'), ('report', 'VBP'), ('smhcomau', 'NNS'), ('June', 'NNP'), ('1', 'CD'), ('2003', 'CD'), ('Fusilier', 'NNP'), ('Gary', 'NNP'), ('Bartlam', 'NNP'), ('18', 'CD'), ('photo', 'NN'), ('developed', 'VBD'), ('came', 'VBD'), ('home', 'NN'), ('included', 'VBD'), ('stuff', 'NN'), ('recently', 'RB'), ('seen', 'VBN'), ('Quote', 'NNP'), ('One', 'CD'), ('allegedly', 'RB'), ('show', 'VBP'), ('man', 'NN'), ('stripped', 'VBN'), ('waist', 'NN'), ('suspended', 'VBD'), ('air', 'NN'), ('rope', 'NN'), ('attached', 'VBD'), ('one', 'CD'), ('fork', 'NN'), ('forklift', 'JJ'), ('truck', 'NN'), ('Another', 'DT'), ('said', 'VBD'), ('show', 'NN'), ('pair', 'NN'), ('white', 'JJ'), ('leg', 'JJ'), ('head', 'NN'), ('Iraqi', 'NNP'), ('male', 'VBZ'), ('The', 'DT'), ('hand', 'NN'), ('man', 'NN'), ('behind', 'IN'), ('Iraqs', 'NNP'), ('head', 'NN'), ('appears', 'VBZ'), ('forcing', 'VBG'), ('perform', 'VB'), ('oral', 'JJ'), ('sex', 'NN'), ('How', 'NNP'), ('many', 'JJ'), ('soldier', 'VBP'), ('like', 'IN'), ('go', 'VBP'), ('naive', 'JJ'), ('find', 'VBP'), ('position', 'NN'), ('03August2004', 'CD'), ('urlLink', 'JJ'), ('New', 'NNP'), ('York', 'NNP'), ('adventuregame', 'NN'), ('03August2004', 'CD'), ('Since', 'IN'), ('process', 'NN'), ('building', 'NN'), ('house', 'NN'), ('would', 'MD'), ('rather', 'RB'), ('weather', 'VB'), ('include', 'VB'), ('raining', 'VBG'), ('cat', 'JJ'), ('dog', 'NN'), ('right', 'NN'), ('I', 'PRP'), ('request', 'VBP'), ('major', 'JJ'), ('weather', 'NN'), ('update', 'NN'), ('including', 'VBG'), ('feature', 'NN'), ('dry', 'JJ'), ('sunny', 'NN'), ('weather', 'NN'), ('03August2004', 'CD'), ('Whow', 'NNP'), ('say', 'VBP'), ('new', 'JJ'), ('urlLink', 'JJ'), ('Blogger', 'NNP'), ('A', 'NNP'), ('complete', 'JJ'), ('new', 'JJ'), ('design', 'NN'), ('brand', 'NN'), ('new', 'JJ'), ('set', 'VBN'), ('feature', 'NN'), ('like', 'IN'), ('Comments', 'NNP'), ('great', 'JJ'), ('set', 'NN'), ('default', 'NN'), ('layout', 'NN'), ('created', 'VBD'), ('great', 'JJ'), ('designer', 'NN'), ('Im', 'NNP'), ('loving', 'VBG'), ('03August2004', 'CD'), ('To', 'TO'), ('make', 'VB'), ('Blog', 'NNP'), ('semi', 'VB'), ('complete', 'JJ'), ('added', 'JJ'), ('comment', 'NN'), ('trackbacks', 'NNS'), ('I', 'PRP'), ('quite', 'VBP'), ('sure', 'JJ'), ('wont', 'JJ'), ('needing', 'VBG'), ('feel', 'NN'), ('awkward', 'RB'), ('without', 'IN'), ('03August2004', 'CD'), ('Everybody', 'NN'), ('keep', 'VB'), ('wondering', 'VBG'), ('actual', 'JJ'), ('US', 'NNP'), ('Army', 'NNP'), ('report', 'NN'), ('Iraqi', 'NNP'), ('prisoner', 'NN'), ('abuse', 'NN'), ('stating', 'VBG'), ('The', 'DT'), ('wonder', 'NN'), ('internet', 'NN'), ('urlLink', 'NN'), ('made', 'VBD'), ('available', 'JJ'), ('03August2004', 'CD'), ('So', 'RB'), ('going', 'VBG'), ('home', 'NN'), ('away', 'RB'), ('home', 'NN'), ('meaning', 'NN'), ('blog', 'NN'), ('Since', 'IN'), ('lot', 'NN'), ('people', 'NNS'), ('know', 'VBP'), ('read', 'VBN'), ('official', 'JJ'), ('Blog', 'NNP'), ('tempted', 'VBD'), ('use', 'NN'), ('blog', 'NN'), ('stuff', 'NN'), ('dont', 'NN'), ('want', 'VBP'), ('post', 'NN'), ('blog', 'NN'), ('know', 'VBP'), ('colleague', 'NN'), ('work', 'NN'), ('read', 'VB'), ('Some', 'DT'), ('best', 'JJS'), ('friend', 'NN'), ('quite', 'JJ'), ('thing', 'NN'), ('would', 'MD'), ('rather', 'RB'), ('keep', 'VB'), ('hidden', 'NN'), ('03August2004', 'CD'), ('Play', 'NNP'), ('urlLink', 'VBP'), ('Miniball', 'NNP'), ('nice', 'JJ'), ('Flashgame', 'NNP'), ('03August2004', 'CD'), ('urlLink', 'JJ'), ('nice', 'JJ'), ('urlLink', 'NN'), ('konfabulator', 'NN'), ('03August2004', 'CD'), ('After', 'IN'), ('watching', 'VBG'), ('urlLink', 'JJ'), ('keynote', 'NN'), ('last', 'JJ'), ('night', 'NN'), ('shure', 'NN'), ('make', 'VBP'), ('On', 'IN'), ('hardware', 'NN'), ('side', 'NN'), ('urlLink', 'VBP'), ('new', 'JJ'), ('display', 'NN'), ('nice', 'JJ'), ('terribly', 'RB'), ('exiting', 'VBG'), ('They', 'PRP'), ('look', 'VBP'), ('sleek', 'JJ'), ('new', 'JJ'), ('anodized', 'VBN'), ('aluminum', 'NN'), ('design', 'NN'), ('fit', 'NN'), ('powermacs', 'NN'), ('bigger', 'JJR'), ('ie', 'NN'), ('30', 'CD'), ('inch', 'NN'), ('display', 'NN'), ('probably', 'RB'), ('wont', 'RBR'), ('able', 'JJ'), ('afford', 'NN'), ('On', 'IN'), ('software', 'NN'), ('side', 'NN'), ('urlLink', 'VBP'), ('tiger', 'NN'), ('ie', 'NN'), ('MacOS', 'NNP'), ('X', 'NNP'), ('104', 'CD'), ('available', 'JJ'), ('June', 'NNP'), ('2005', 'CD'), ('yes', 'UH'), ('one', 'CD'), ('year', 'NN'), ('Most', 'RBS'), ('new', 'JJ'), ('feature', 'NN'), ('seem', 'VBP'), ('copy', 'NN'), ('existing', 'VBG'), ('tool', 'NN'), ('urlLink', 'NN'), ('Safari', 'NNP'), ('RSS', 'NNP'), ('nice', 'JJ'), ('feature', 'NN'), ('already', 'RB'), ('covered', 'VBN'), ('urlLink', 'JJ'), ('NetNewswire', 'NNP'), ('Its', 'PRP$'), ('nice', 'JJ'), ('able', 'JJ'), ('subscibe', 'NN'), ('r', 'NN'), ('feed', 'VBD'), ('browser', 'JJR'), ('thats', 'NNS'), ('urlLink', 'VBP'), ('Dashboard', 'NNP'), ('seems', 'VBZ'), ('copy', 'JJ'), ('urlLink', 'JJ'), ('konfabulator', 'NN'), ('urlLink', 'NN'), ('Spotlight', 'NNP'), ('nice', 'JJ'), ('way', 'NN'), ('metaindex', 'NN'), ('filesystem', 'NN'), ('able', 'JJ'), ('search', 'NN'), ('something', 'NN'), ('urlLink', 'JJ'), ('Launchbar', 'NNP'), ('well', 'RB'), ('good', 'JJ'), ('integrated', 'VBN'), ('part', 'NN'), ('OS', 'NNP'), ('urlLink', 'NN'), ('Automator', 'NNP'), ('interface', 'NN'), ('applescript', 'NN'), ('click', 'NN'), ('That', 'NNP'), ('nice', 'VBZ'), ('new', 'JJ'), ('totally', 'RB'), ('integrated', 'JJ'), ('OS', 'NNP'), ('really', 'RB'), ('cool', 'JJ'), ('urlLink', 'NN'), ('VoiceOver', 'NNP'), ('spoken', 'VBD'), ('interface', 'JJ'), ('visual', 'JJ'), ('learning', 'NN'), ('disability', 'NN'), ('It', 'PRP'), ('great', 'JJ'), ('apple', 'NN'), ('try', 'NNS'), ('make', 'VBP'), ('OS', 'NNP'), ('barrier', 'JJR'), ('free', 'JJ'), ('Not', 'RB'), ('feature', 'JJ'), ('urlLink', 'VBP'), ('iChat', 'WP'), ('AV', 'NNP'), ('look', 'VBP'), ('like', 'IN'), ('fun', 'NN'), ('dont', 'NN'), ('think', 'VBP'), ('bandwidth', 'IN'), ('urlLink', 'JJ'), ('mac', 'NN'), ('sync', 'NN'), ('store', 'NN'), ('setting', 'VBG'), ('screensaver', 'JJ'), ('internet', 'JJ'), ('pay', 'NN'), ('Come', 'NNP'), ('urlLink', 'VBP'), ('XCode', 'NNP'), ('20', 'CD'), ('I', 'PRP'), ('qualified', 'VBD'), ('comment', 'NN'), ('disapointed', 'VBN'), ('keynote', 'VBP'), ('Come', 'NNP'), ('Steve', 'NNP'), ('better', 'JJR'), ('ie', 'NN'), ('one', 'CD'), ('thing', 'NN'), ('There', 'EX'), ('feature', 'NN'), ('urlLink', 'NN'), ('ichatserver', 'RB'), ('tiger', 'VBD'), ('server', 'RB'), ('03August2004', 'CD'), ('urlLink', 'JJ'), ('Yes', 'NNP'), ('urlLink', 'NN'), ('WWDC', 'NNP'), ('2004', 'CD'), ('San', 'NNP'), ('Francisco', 'NNP'), ('Steve', 'NNP'), ('going', 'VBG'), ('introduce', 'RB'), ('tiger', 'JJR'), ('stuff', 'NN'), ('There', 'EX'), ('urlLink', 'JJ'), ('online', 'NN'), ('feed', 'NN'), ('yet', 'RB'), ('hopefully', 'RB'), ('change', 'VBP'), ('next', 'JJ'), ('hour', 'NN'), ('03August2004', 'CD'), ('The', 'DT'), ('weather', 'NN'), ('suck', 'NN'), ('still', 'RB'), ('bed', 'VBD'), ('watching', 'VBG'), ('tv', 'NN'), ('03August2004', 'CD'), ('What', 'WP'), ('great', 'JJ'), ('idea', 'NN'), ('people', 'NNS'), ('living', 'VBG'), ('dangerous', 'JJ'), ('place', 'NN'), ('Dont', 'NNP'), ('use', 'NN'), ('laptopbag', 'NN'), ('carry', 'VBP'), ('valuable', 'JJ'), ('notebook', 'NN'), ('urlLink', 'NN'), ('Use', 'NNP'), ('cool', 'JJ'), ('Powerpizza', 'NNP'), ('instead', 'RB'), ('Even', 'RB'), ('urlLink', 'JJ'), ('pink', 'VBP'), ('ibook', 'VB'), ('worth', 'JJ'), ('protecting', 'VBG'), ('03August2004', 'CD'), ('urlLink', 'JJ'), ('Wow', 'NNP'), ('There', 'EX'), ('strange', 'JJ'), ('people', 'NNS'), ('03August2004', 'CD'), ('Best', 'NNP'), ('Movie', 'NNP'), ('Story', 'NNP'), ('Soundtrack', 'NNP'), ('urlLink', 'VBP'), ('The', 'DT'), ('way', 'NN'), ('Robert', 'NNP'), ('Redford', 'NNP'), ('Barbara', 'NNP'), ('Streisand', 'NNP'), ('never', 'RB'), ('portrait', 'VBP'), ('woman', 'NN'), ('Sydney', 'NNP'), ('Pollack', 'NNP'), ('Thats', 'NNP'), ('movie', 'NN'), ('brings', 'VBZ'), ('tear', 'IN'), ('eye', 'NN'), ('time', 'NN'), ('03August2004', 'CD'), ('I', 'PRP'), ('seen', 'VBN'), ('real', 'JJ'), ('address', 'JJ'), ('slothropblogspotcom', 'NN'), ('already', 'RB'), ('take', 'VB'), ('since', 'IN'), ('2001', 'CD'), ('carried', 'VBD'), ('I', 'PRP'), ('already', 'RB'), ('reserved', 'VBD'), ('domain', 'JJ'), ('fix', 'JJ'), ('harden', 'NN'), ('VServer', 'RB'), ('03August2004', 'CD'), ('It', 'PRP'), ('bad', 'JJ'), ('weather', 'RBR'), ('last', 'JJ'), ('month', 'NN'), ('gotten', 'VBD'), ('urlLink', 'JJ'), ('worse', 'JJR'), ('I', 'PRP'), ('sitting', 'VBG'), ('balcony', 'JJ'), ('time', 'NN'), ('listen', 'JJ'), ('wind', 'NN'), ('It', 'PRP'), ('seems', 'VBZ'), ('storm', 'JJ'), ('growing', 'VBG'), ('03August2004', 'CD'), ('urlLink', 'IN'), ('The', 'DT'), ('new', 'JJ'), ('ipod', 'NN'), ('03August2004', 'CD'), ('I', 'PRP'), ('absolutely', 'RB'), ('free', 'JJ'), ('time', 'NN'), ('since', 'IN'), ('house', 'NN'), ('project', 'NN'), ('coming', 'VBG'), ('new', 'JJ'), ('phase', 'NN'), ('Stay', 'NNP'), ('tuned', 'VBD'), ('03August2004', 'CD'), ('Thank', 'NNP'), ('Google', 'NNP'), ('invited', 'VBD'), ('several', 'JJ'), ('friend', 'NN'), ('urlLink', 'NN'), ('gmail', 'NN'), ('made', 'VBD'), ('happy', 'JJ'), ('account', 'NN'), ('The', 'DT'), ('problem', 'NN'), ('seems', 'VBZ'), ('take', 'VBP'), ('time', 'NN'), ('activate', 'NN'), ('account', 'NN'), ('seems', 'VBZ'), ('take', 'VBP'), ('1', 'CD'), ('hour', 'NN'), ('The', 'DT'), ('message', 'NN'), ('people', 'NNS'), ('get', 'VBP'), ('server', 'JJ'), ('temporarily', 'RB'), ('unavailable', 'JJ'), ('take', 'VB'), ('hour', 'NN'), ('login', 'NN'), ('03August2004', 'CD'), ('urlLink', 'JJ'), ('CNNcom', 'NNP'), ('Private', 'NNP'), ('spacecraft', 'NN'), ('make', 'VBP'), ('historic', 'JJ'), ('launch', 'NN'), ('Jun', 'NNP'), ('21', 'CD'), ('2004', 'CD'), ('03August2004', 'CD'), ('Its', 'PRP$'), ('official', 'NN'), ('begin', 'NN'), ('summer', 'NN'), ('today', 'NN'), ('2162004', 'CD'), ('Hopefully', 'NNP'), ('mean', 'JJ'), ('getting', 'VBG'), ('sunshine', 'NN'), ('Up', 'NNP'), ('rain', 'NN'), ('cold', 'JJ'), ('urlLink', 'JJ'), ('Look', 'NNP'), ('sun', 'VBD'), ('03August2004', 'CD'), ('I', 'PRP'), ('love', 'VBP'), ('new', 'JJ'), ('urlLink', 'JJ'), ('Hello', 'NNP'), ('service', 'NN'), ('allows', 'VBZ'), ('post', 'JJ'), ('picture', 'NN'), ('blogger', 'NN'), ('blog', 'NN'), ('without', 'IN'), ('use', 'NN'), ('webspace', 'VBP'), ('The', 'DT'), ('problem', 'NN'), ('available', 'JJ'), ('Windows', 'NNP'), ('user', 'NN'), ('daytime', 'NN'), ('At', 'IN'), ('night', 'NN'), ('sitting', 'VBG'), ('balkony', 'NN'), ('nice', 'RB'), ('12', 'CD'), ('inch', 'JJ'), ('Powerbook', 'NNP'), ('It', 'PRP'), ('possible', 'JJ'), ('reverse', 'NN'), ('engineer', 'NN'), ('protocol', 'NN'), ('sure', 'NN'), ('would', 'MD'), ('legal', 'JJ'), ('update', 'VB'), ('There', 'EX'), ('already', 'RB'), ('urlLink', 'VBP'), ('thread', 'JJ'), ('03August2004', 'CD'), ('urlLink', 'VBP'), ('The', 'DT'), ('best', 'JJS'), ('feature', 'NN'), ('gmail', 'NN'), ('found', 'VBD'), ('far', 'RB'), ('automatically', 'RB'), ('give', 'JJ'), ('link', 'NN'), ('open', 'JJ'), ('swiss', 'JJ'), ('bank', 'NN'), ('account', 'NN'), ('read', 'JJ'), ('nigerian', 'JJ'), ('spam', 'NN'), ('03August2004', 'CD'), ('If', 'IN'), ('looking', 'VBG'), ('around', 'RB'), ('WWW', 'NNP'), ('come', 'VBP'), ('across', 'IN'), ('file', 'NN'), ('labeled', 'VBN'), ('nsfw', 'JJ'), ('safe', 'JJ'), ('work', 'NN'), ('offensive', 'JJ'), ('gross', 'JJ'), ('something', 'NN'), ('region', 'NN'), ('highly', 'RB'), ('likely', 'JJ'), ('picture', 'NN'), ('movie', 'NN'), ('You', 'PRP'), ('warned', 'VBD'), ('likely', 'RB'), ('curious', 'JJ'), ('people', 'NNS'), ('You', 'PRP'), ('start', 'VBP'), ('looking', 'VBG'), ('find', 'VBP'), ('look', 'JJ'), ('wish', 'JJ'), ('hadnt', 'NN'), ('Come', 'NNP'), ('go', 'VBP'), ('look', 'VBP'), ('urlLink', 'JJ'), ('goatse', 'NN'), ('urlLink', 'JJ'), ('curiosity', 'NN'), ('already', 'RB'), ('kill', 'VB'), ('03August2004', 'CD'), ('shiny', 'JJ'), ('urlLink', 'JJ'), ('new', 'JJ'), ('tv', 'NN'), ('set', 'VBN'), ('broke', 'VBD'), ('yesterday', 'NN'), ('I', 'PRP'), ('bought', 'VBD'), ('last', 'JJ'), ('weekend', 'NN'), ('wanted', 'VBD'), ('watch', 'JJ'), ('soccer', 'NN'), ('game', 'NN'), ('yesterday', 'NN'), ('picture', 'NN'), ('went', 'VBD'), ('blank', 'JJ'), ('23', 'CD'), ('second', 'JJ'), ('I', 'PRP'), ('go', 'VBP'), ('back', 'RB'), ('store', 'RB'), ('today', 'NN'), ('get', 'VBP'), ('replaced', 'VBN'), ('They', 'PRP'), ('dont', 'VBP'), ('seem', 'VBP'), ('able', 'JJ'), ('build', 'NN'), ('robust', 'JJ'), ('stable', 'JJ'), ('The', 'DT'), ('old', 'JJ'), ('tv', 'NN'), ('worked', 'VBD'), ('18', 'CD'), ('year', 'NN'), ('without', 'IN'), ('problem', 'NN'), ('03August2004', 'CD'), ('urlLink', 'NN'), ('I', 'PRP'), ('shure', 'VBP'), ('would', 'MD'), ('feel', 'VB'), ('urlLink', 'JJ'), ('toilet', 'NN'), ('like', 'IN'), ('one', 'CD'), ('standing', 'VBG'), ('front', 'JJ'), ('Tate', 'NNP'), ('Gallery', 'NNP'), ('London', 'NNP'), ('It', 'PRP'), ('reflects', 'VBZ'), ('outside', 'JJ'), ('transparent', 'NN'), ('inside', 'IN'), ('It', 'PRP'), ('exibit', 'VBZ'), ('called', 'VBN'), ('Dont', 'NNP'), ('Miss', 'NNP'), ('A', 'NNP'), ('Sec', 'NNP'), ('03August2004', 'CD'), ('adidas', 'RB'), ('created', 'VBN'), ('great', 'JJ'), ('commercial', 'JJ'), ('run', 'NN'), ('tv', 'NN'), ('time', 'NN'), ('EM', 'NNP'), ('2004', 'CD'), ('european', 'JJ'), ('soccer', 'NN'), ('championship', 'NN'), ('urlLink', 'VBP'), ('Have', 'VBP'), ('look', 'VBN'), ('03August2004', 'CD'), ('As', 'IN'), ('wanted', 'JJ'), ('make', 'NN'), ('frustration', 'NN'), ('googled', 'VBD'), ('urlLink', 'JJ'), ('Google', 'NNP'), ('send', 'NN'), ('invitation', 'NN'), ('urlLink', 'VBP'), ('Betatest', 'NNP'), ('Gmail', 'NNP'), ('I', 'PRP'), ('taken', 'VBN'), ('brief', 'JJ'), ('look', 'VBP'), ('The', 'DT'), ('server', 'NN'), ('fast', 'RB'), ('responsive', 'JJ'), ('spamfilter', 'NN'), ('seems', 'VBZ'), ('trained', 'VBN'), ('quite', 'RB'), ('well', 'RB'), ('page', 'NN'), ('crowded', 'VBD'), ('graphic', 'JJ'), ('seem', 'JJ'), ('clean', 'NN'), ('There', 'EX'), ('FilterSystem', 'NNP'), ('From', 'NNP'), ('Has', 'NNP'), ('word', 'NN'), ('To', 'TO'), ('Doesnt', 'NNP'), ('Subject', 'NNP'), ('Has', 'NNP'), ('attachment', 'NN'), ('criterion', 'NN'), ('configure', 'NN'), ('I', 'PRP'), ('1', 'CD'), ('GB', 'NNP'), ('mailstorage', 'NN'), ('google', 'NN'), ('great', 'JJ'), ('search', 'NN'), ('engine', 'NN'), ('find', 'VBP'), ('mail', 'NN'), ('Im', 'NNP'), ('loving', 'VBG'), ('03August2004', 'CD'), ('urlLink', 'JJ'), ('These', 'DT'), ('fine', 'JJ'), ('young', 'JJ'), ('lady', 'NN'), ('would', 'MD'), ('kissed', 'VBN'), ('anybody', 'NN'), ('yesterday', 'NN'), ('evening', 'VBG'), ('since', 'IN'), ('lot', 'NN'), ('beer', 'NN'), ('around', 'IN'), ('soccermatch', 'NN'), ('germany', 'NN'), ('v', 'NN'), ('netherlands', 'VBZ'), ('The', 'DT'), ('game', 'NN'), ('ended', 'VBD'), ('11', 'CD'), ('best', 'JJS'), ('possible', 'JJ'), ('outcome', 'NN'), ('03August2004', 'CD'), ('This', 'DT'), ('happens', 'VBZ'), ('company', 'NN'), ('still', 'RB'), ('listen', 'VB'), ('customer', 'NN'), ('After', 'IN'), ('outrage', 'NN'), ('user', 'RB'), ('new', 'JJ'), ('licensingsystem', 'NN'), ('urlLink', 'JJ'), ('sixapart', 'NN'), ('company', 'NN'), ('created', 'VBD'), ('Movable', 'NNP'), ('Type', 'NNP'), ('urlLink', 'VBP'), ('changed', 'VBN'), ('ensure', 'VB'), ('everybody', 'NN'), ('happy', 'JJ'), ('I', 'PRP'), ('like', 'VBP'), ('flexibility', 'JJ'), ('response', 'NN'), ('critique', 'NN'), ('03August2004', 'CD'), ('The', 'DT'), ('urlLink', 'NN'), ('iTunes', 'NNS'), ('Music', 'NNP'), ('Store', 'NNP'), ('available', 'JJ'), ('Europe', 'NNP'), ('Start', 'NNP'), ('credit', 'NN'), ('card', 'NN'), ('03August2004', 'CD'), ('urlLink', 'NN'), ('This', 'DT'), ('live', 'JJ'), ('exact', 'NN'), ('able', 'JJ'), ('figure', 'NN'), ('country', 'NN'), ('Source', 'NNP'), ('wonderful', 'JJ'), ('urlLink', 'NN'), ('Proba', 'NNP'), ('ESA', 'NNP'), ('03August2004', 'CD'), ('Currently', 'NNP'), ('eagerly', 'RB'), ('awaiting', 'VBG'), ('urlLink', 'JJ'), ('iTunes', 'NNS'), ('Music', 'NNP'), ('Store', 'NNP'), ('Europe', 'NNP'), ('urlLink', 'NN'), ('announced', 'VBD'), ('London', 'NNP'), ('It', 'PRP'), ('enable', 'JJ'), ('u', 'JJ'), ('legaly', 'NN'), ('download', 'NN'), ('music', 'NN'), ('hopefully', 'RB'), ('price', 'NN'), ('1', 'CD'), ('Euro', 'NNP'), ('per', 'IN'), ('song', 'NN'), ('Stand', 'NNP'), ('till', 'NN'), ('12', 'CD'), ('clock', 'NN'), ('local', 'JJ'), ('time', 'NN'), ('UPDATE', 'NNP'), ('iTMS', 'IN'), ('Europe', 'NNP'), ('hosted', 'VBD'), ('Luxemburg', 'NNP'), ('benefit', 'NN'), ('tax', 'NN'), ('law', 'NN'), ('urlLink', 'VBP'), ('hardmac', '$'), ('03August2004', 'CD'), ('urlLink', 'JJ'), ('Google', 'NNP'), ('found', 'VBD'), ('site', 'NN'), ('seems', 'VBZ'), ('index', 'NN'), ('page', 'NN'), ('It', 'PRP'), ('took', 'VBD'), ('1', 'CD'), ('12', 'CD'), ('month', 'NN'), ('find', 'NN'), ('remarkable', 'JJ'), ('since', 'IN'), ('urlLink', 'JJ'), ('Blogger', 'NNP'), ('currently', 'RB'), ('owned', 'VBD'), ('Google', 'NNP'), ('I', 'PRP'), ('would', 'MD'), ('expected', 'VBN'), ('instant', 'JJ'), ('indexing', 'VBG'), ('new', 'JJ'), ('blogger', 'NN'), ('site', 'NN'), ('since', 'IN'), ('urlLink', 'JJ'), ('technology', 'NN'), ('available', 'JJ'), ('Still', 'RB'), ('puzzled', 'VBD'), ('03August2004', 'CD'), ('Have', 'NNP'), ('yet', 'RB'), ('receive', 'VBP'), ('urlLink', 'JJ'), ('GMail', 'NNP'), ('Invitation', 'NN'), ('It', 'PRP'), ('seems', 'VBZ'), ('sending', 'VBG'), ('invitation', 'NN'), ('Since', 'IN'), ('Google', 'NNP'), ('ignored', 'VBD'), ('blog', 'NN'), ('date', 'NN'), ('dont', 'NN'), ('expect', 'VBP'), ('invitation', 'NN'), ('time', 'NN'), ('soon', 'RB'), ('03August2004', 'CD'), ('sitting', 'VBG'), ('balcony', 'NN'), ('smoking', 'NN'), ('cigar', 'NN'), ('drinking', 'NN'), ('Cuba', 'NNP'), ('Libre', 'NNP'), ('chatting', 'VBG'), ('old', 'JJ'), ('friend', 'NN'), ('mine', 'NN'), ('via', 'IN'), ('urlLink', 'JJ'), ('Proteus', 'NNP'), ('best', 'JJS'), ('Chatclient', 'NNP'), ('world', 'NN'), ('OSX', 'NNP'), ('03August2004', 'CD'), ('I', 'PRP'), ('love', 'VBP'), ('way', 'NN'), ('urlLink', 'JJ'), ('Apple', 'NNP'), ('creates', 'VBZ'), ('product', 'NN'), ('waited', 'VBD'), ('This', 'DT'), ('time', 'NN'), ('urlLink', 'JJ'), ('Airport', 'NNP'), ('Express', 'NNP'), ('Love', 'NNP'), ('ordered', 'VBD'), ('03August2004', 'CD'), ('even', 'RB'), ('though', 'IN'), ('month', 'NN'), ('google', 'NN'), ('still', 'RB'), ('ignoring', 'VBG'), ('page', 'NN'), ('created', 'VBD'), ('backlink', 'VBP'), ('one', 'CD'), ('page', 'NN'), ('speed', 'NN'), ('process', 'NN'), ('03August2004', 'CD'), ('monday', 'NN'), ('hold', 'VBN'), ('head', 'NN'), ('tuesday', 'NN'), ('wednesday', 'JJ'), ('stay', 'VB'), ('bed', 'JJ'), ('orthursday', 'JJ'), ('watch', 'VB'), ('wall', 'NN'), ('instead', 'RB'), ('friday', 'JJ'), ('Im', 'NNP'), ('love', 'NN'), ('shure', 'NN'), ('enough', 'JJ'), ('day', 'NN'), ('week', 'NN'), ('raining', 'VBG'), ('I', 'PRP'), ('wont', 'VBP'), ('let', 'VB'), ('bother', 'PRP'), ('start', 'VB'), ('enjoying', 'VBG'), ('sweet', 'JJ'), ('weekend', 'NN'), ('4', 'CD'), ('pm', 'NN'), ('Still', 'RB'), ('work', 'VB'), ('ahead', 'RB'), ('03August2004', 'CD'), ('urlLink', 'JJ'), ('Enjoy', 'NNP'), ('urlLink', 'NN'), ('flipside', 'NN'), ('nice', 'JJ'), ('logic', 'JJ'), ('flash', 'JJ'), ('game', 'NN'), ('03August2004', 'CD'), ('link', 'NN'), ('selfmotivation', 'NN'), ('urlLink', 'VBP'), ('Medline', 'NNP'), ('Smoking', 'NNP'), ('urlLink', 'NN'), ('WHO', 'NNP'), ('Smoking', 'NNP'), ('urlLink', 'VBP'), ('Tobaccofree', 'NNP'), ('Europe', 'NNP'), ('03August2004', 'CD'), ('mom', 'NN'), ('urlLink', 'NN'), ('selling', 'VBG'), ('son', 'JJ'), ('playstation', 'NN'), ('2', 'CD'), ('punishment', 'NN'), ('03August2004', 'CD'), ('urlLink', 'JJ'), ('urlLink', 'JJ'), ('complete', 'JJ'), ('map', 'NN'), ('springfield', 'VBD'), ('03August2004', 'CD'), ('update', 'JJ'), ('google', 'NN'), ('still', 'RB'), ('ignoring', 'VBG'), ('weblog', 'NN'), ('last', 'JJ'), ('month', 'NN'), ('03August2004', 'CD'), ('urlLink', 'NN'), ('applelecom', 'NN'), ('look', 'VBP'), ('imaginary', 'JJ'), ('product', 'NN'), ('put', 'VBD'), ('devoted', 'JJ'), ('fan', 'NN'), ('In', 'IN'), ('homepage', 'NN'), ('I', 'PRP'), ('display', 'VBP'), ('imaginary', 'JJ'), ('design', 'NN'), ('future', 'NN'), ('apple', 'NN'), ('product', 'NN'), ('Please', 'NNP'), ('take', 'VB'), ('look', 'NN'), ('03August2004', 'CD'), ('15', 'CD'), ('year', 'NN'), ('ago', 'IN'), ('Chinese', 'JJ'), ('Government', 'NNP'), ('used', 'VBD'), ('tank', 'NN'), ('gun', 'NN'), ('unarmed', 'JJ'), ('civilian', 'JJ'), ('urlLink', 'NN'), ('BBC', 'NNP'), ('day', 'NN'), ('03August2004', 'CD'), ('urlLink', 'JJ'), ('Why', 'WRB'), ('Did', 'NNP'), ('Google', 'NNP'), ('Want', 'NNP'), ('Blogger', 'NNP'), ('Wired', 'NNP'), ('News', 'NNP'), ('say', 'VBP'), ('Cleveland', 'NNP'), ('said', 'VBD'), ('Googles', 'NNP'), ('acquisition', 'NN'), ('Pyra', 'NNP'), ('would', 'MD'), ('quite', 'RB'), ('simply', 'RB'), ('help', 'VB'), ('Google', 'NNP'), ('create', 'VB'), ('accurate', 'JJ'), ('search', 'NN'), ('engine', 'NN'), ('adding', 'VBG'), ('rich', 'JJ'), ('new', 'JJ'), ('source', 'NN'), ('data', 'NNS'), ('gleaned', 'VBD'), ('weblogs', 'IN'), ('The', 'DT'), ('urlLink', 'NN'), ('blogger', 'NN'), ('help', 'VBP'), ('say', 'VB'), ('Blogs', 'NNP'), ('available', 'JJ'), ('Internet', 'NNP'), ('exactly', 'RB'), ('like', 'IN'), ('webpage', 'NN'), ('automatically', 'RB'), ('indexed', 'JJ'), ('search', 'NN'), ('engine', 'NN'), ('urlLink', 'VBP'), ('Google', 'NNP'), ('The', 'DT'), ('urlLink', 'JJ'), ('Listing', 'NNP'), ('setting', 'NN'), ('affect', 'NN'), ('For', 'IN'), ('information', 'NN'), ('getting', 'VBG'), ('site', 'NN'), ('listed', 'JJ'), ('please', 'NN'), ('see', 'VB'), ('Googles', 'NNP'), ('urlLink', 'VB'), ('Information', 'NNP'), ('Webmasters', 'NNP'), ('page', 'NN'), ('03August2004', 'CD')]\n"
     ]
    }
   ],
   "source": [
    "Tagged1=pos_tagging(words) #tagging for corpus1"
   ]
  },
  {
   "cell_type": "code",
   "execution_count": 41,
   "metadata": {},
   "outputs": [
    {
     "name": "stdout",
     "output_type": "stream",
     "text": [
      "Counter({'NN': 517, 'JJ': 269, 'NNP': 220, 'CD': 127, 'RB': 93, 'VBP': 88, 'VBD': 63, 'IN': 59, 'VBG': 55, 'PRP': 47, 'VB': 44, 'VBN': 33, 'DT': 25, 'VBZ': 23, 'MD': 15, 'NNS': 13, 'JJR': 9, 'EX': 5, 'JJS': 4, 'WRB': 3, 'PRP$': 3, 'WP': 3, 'TO': 2, 'RBR': 2, 'WDT': 1, 'NNPS': 1, 'UH': 1, 'RBS': 1, '$': 1})\n"
     ]
    }
   ],
   "source": [
    "counts1=counter(Tagged1)\n",
    "print(counts1)"
   ]
  },
  {
   "cell_type": "code",
   "execution_count": 42,
   "metadata": {},
   "outputs": [
    {
     "name": "stdout",
     "output_type": "stream",
     "text": [
      "[('19February2003', 'CD'), ('Ok', 'NNP'), ('finally', 'RB'), ('ive', 'JJ'), ('done', 'VBN'), ('blog', 'NN'), ('world', 'NN'), ('wide', 'JJ'), ('web', 'NN'), ('might', 'MD'), ('ask', 'VB'), ('well', 'RB'), ('think', 'VB'), ('better', 'JJR'), ('way', 'NN'), ('vent', 'JJ'), ('frustration', 'NN'), ('life', 'NN'), ('etc', 'FW'), ('rather', 'RB'), ('something', 'NN'), ('stupid', 'JJ'), ('Rest', 'NNP'), ('assured', 'VBD'), ('wont', 'JJ'), ('angst', 'JJ'), ('ridden', 'NN'), ('blog', 'NN'), ('person', 'NN'), ('facing', 'VBG'), ('difficult', 'JJ'), ('time', 'NN'), ('life', 'NN'), ('hehe', 'JJ'), ('pent', 'JJ'), ('emotion', 'NN'), ('really', 'RB'), ('good', 'JJ'), ('I', 'PRP'), ('really', 'RB'), ('good', 'JJ'), ('word', 'NN'), ('bear', 'NN'), ('get', 'VBP'), ('art', 'RB'), ('blogging', 'VBG'), ('right', 'JJ'), ('mean', 'NN'), ('enjoy', 'VB'), ('ride', 'RB'), ('30March2003', 'CD'), ('coffee', 'NN'), ('count', 'NN'), ('X', 'NNP'), ('I', 'PRP'), ('get', 'VBP'), ('enough', 'JJ'), ('coffee', 'NN'), ('today', 'NN'), ('bit', 'VBP'), ('bog', 'JJ'), ('block', 'NN'), ('I', 'PRP'), ('busy', 'VBD'), ('last', 'JJ'), ('week', 'NN'), ('dont', 'VBD'), ('nothing', 'NN'), ('much', 'JJ'), ('talk', 'NN'), ('I', 'PRP'), ('came', 'VBD'), ('back', 'RB'), ('3', 'CD'), ('day', 'NN'), ('course', 'NN'), ('avillion', 'NN'), ('urlLink', 'VBP'), ('httpwwwavillioncommy', 'NN'), ('pd', 'VBP'), ('The', 'DT'), ('place', 'NN'), ('nice', 'JJ'), ('I', 'PRP'), ('chance', 'NN'), ('enjoy', 'VBD'), ('The', 'DT'), ('keyboard', 'NN'), ('cyber', 'NN'), ('cafe', 'JJ'), ('really', 'RB'), ('sucksthespacebarisjammed', 'VBD'), ('I', 'PRP'), ('continue', 'VBP'), ('later', 'RB'), ('laptop', 'JJ'), ('coffee', 'NN'), ('countXXX', 'NN'), ('God', 'NNP'), ('stressfull', 'NN'), ('I', 'PRP'), ('office', 'NN'), ('trying', 'VBG'), ('finish', 'JJ'), ('presentation', 'NN'), ('GM', 'NNP'), ('He', 'PRP'), ('visiting', 'VBG'), ('area', 'NN'), ('I', 'PRP'), ('wanted', 'VBD'), ('write', 'JJ'), ('vacation', 'NN'), ('holiday', 'NN'), ('I', 'PRP'), ('proper', 'VBP'), ('one', 'CD'), ('long', 'JJ'), ('time', 'NN'), ('I', 'PRP'), ('planning', 'VBG'), ('one', 'CD'), ('year', 'NN'), ('I', 'PRP'), ('hoping', 'VBG'), ('visit', 'NN'), ('one', 'CD'), ('island', 'NN'), ('east', 'NN'), ('coast', 'NN'), ('All', 'NNP'), ('stress', 'NN'), ('getting', 'VBG'), ('I', 'PRP'), ('time', 'NN'), ('anymore', 'RB'), ('seems', 'VBZ'), ('work', 'NN'), ('work', 'NN'), ('work', 'NN'), ('Well', 'NNP'), ('maybe', 'RB'), ('lack', 'VBP'), ('discipline', 'JJ'), ('time', 'NN'), ('management', 'NN'), ('try', 'VB'), ('find', 'IN'), ('time', 'NN'), ('I', 'PRP'), ('midst', 'VBP'), ('background', 'JJ'), ('work', 'NN'), ('go', 'VBP'), ('keep', 'VB'), ('looking', 'VBG'), ('blog', 'NN'), ('plan', 'NN'), ('20March2003', 'CD'), ('coffee', 'NN'), ('count', 'NN'), ('XX', 'NNP'), ('Life', 'NNP'), ('generally', 'RB'), ('suck', 'VBD'), ('believe', 'VBP'), ('I', 'PRP'), ('pessimistic', 'JJ'), ('reality', 'NN'), ('People', 'NNP'), ('would', 'MD'), ('say', 'VB'), ('grass', 'NN'), ('always', 'RB'), ('greener', 'JJ'), ('side', 'NN'), ('mean', 'JJ'), ('grass', 'NN'), ('side', 'NN'), ('suck', 'NN'), ('would', 'MD'), ('like', 'VB'), ('go', 'VB'), ('someplace', 'NN'), ('else', 'RB'), ('better', 'RBR'), ('cow', 'NN'), ('doesnt', 'NN'), ('help', 'NN'), ('either', 'DT'), ('So', 'NNP'), ('would', 'MD'), ('life', 'NN'), ('suck', 'VB'), ('make', 'JJ'), ('lemonade', 'JJ'), ('people', 'NNS'), ('throw', 'VBP'), ('lemon', 'JJ'), ('make', 'VBP'), ('best', 'JJS'), ('It', 'PRP'), ('use', 'NN'), ('bogged', 'VBD'), ('life', 'NN'), ('problem', 'NN'), ('work', 'NN'), ('personal', 'JJ'), ('Love', 'NNP'), ('lost', 'VBD'), ('broken', 'JJ'), ('heart', 'NN'), ('thankful', 'NN'), ('love', 'IN'), ('someone', 'NN'), ('still', 'RB'), ('heart', 'NN'), ('love', 'IN'), ('future', 'JJ'), ('Things', 'NNS'), ('working', 'VBG'), ('way', 'NN'), ('planned', 'VBN'), ('view', 'NN'), ('challenge', 'NN'), ('overcome', 'IN'), ('It', 'PRP'), ('sign', 'VBZ'), ('great', 'JJ'), ('person', 'NN'), ('could', 'MD'), ('climb', 'VB'), ('back', 'RB'), ('fall', 'NN'), ('14March2003', 'CD'), ('banner', 'NN'), ('ad', 'NN'), ('really', 'RB'), ('spot', 'VBZ'), ('13March2003', 'CD'), ('coffee', 'NN'), ('count', 'NN'), ('XX', 'NNP'), ('Might', 'NNP'), ('well', 'RB'), ('write', 'RB'), ('something', 'NN'), ('momentum', 'NN'), ('Since', 'IN'), ('im', 'NN'), ('subject', 'JJ'), ('love', 'IN'), ('lover', 'NN'), ('I', 'PRP'), ('another', 'DT'), ('issue', 'NN'), ('talk', 'NN'), ('Have', 'VBP'), ('ever', 'RB'), ('feeling', 'VBG'), ('whether', 'IN'), ('love', 'NN'), ('like', 'IN'), ('lust', 'NN'), ('someone', 'NN'), ('person', 'NN'), ('total', 'JJ'), ('jerk', 'NN'), ('Well', 'NNP'), ('maybe', 'RB'), ('fault', 'VBD'), ('hoping', 'VBG'), ('something', 'NN'), ('would', 'MD'), ('get', 'VB'), ('hoping', 'VBG'), ('hope', 'NN'), ('somehow', 'JJ'), ('thing', 'NN'), ('change', 'NN'), ('Why', 'WRB'), ('I', 'PRP'), ('would', 'MD'), ('anyone', 'NN'), ('wanted', 'VBD'), ('humiliated', 'VBN'), ('trying', 'VBG'), ('get', 'VB'), ('someone', 'NN'), ('acceptance', 'NN'), ('Rejection', 'NNP'), ('painful', 'JJ'), ('thing', 'NN'), ('emotionally', 'RB'), ('Back', 'NNP'), ('question', 'NN'), ('like', 'IN'), ('someone', 'NN'), ('total', 'JJ'), ('jerk', 'NN'), ('Do', 'NNP'), ('see', 'VB'), ('something', 'NN'), ('person', 'NN'), ('fit', 'JJ'), ('everything', 'NN'), ('ever', 'RB'), ('looked', 'VBD'), ('lover', 'IN'), ('The', 'DT'), ('strong', 'JJ'), ('silent', 'JJ'), ('type', 'NN'), ('smart', 'JJ'), ('intelectual', 'JJ'), ('one', 'CD'), ('successfull', 'JJ'), ('life', 'NN'), ('athletic', 'JJ'), ('jock', 'NN'), ('average', 'NN'), ('joe', 'NN'), ('I', 'PRP'), ('guess', 'VBP'), ('found', 'VBD'), ('someone', 'NN'), ('fit', 'JJ'), ('image', 'NN'), ('perfect', 'JJ'), ('lover', 'RB'), ('hard', 'JJ'), ('let', 'NN'), ('go', 'VB'), ('fearing', 'VBG'), ('might', 'MD'), ('find', 'VB'), ('another', 'DT'), ('one', 'CD'), ('You', 'PRP'), ('willing', 'JJ'), ('accept', 'IN'), ('person', 'NN'), ('even', 'RB'), ('person', 'NN'), ('jerk', 'NN'), ('In', 'IN'), ('end', 'NN'), ('one', 'CD'), ('hurt', 'NN'), ('probably', 'RB'), ('would', 'MD'), ('gave', 'VBD'), ('finding', 'VBG'), ('someone', 'NN'), ('Living', 'NNP'), ('denial', 'JJ'), ('13March2003', 'CD'), ('coffee', 'NN'), ('count', 'NN'), ('XXX', 'VBD'), ('Its', 'PRP$'), ('like', 'IN'), ('month', 'NN'), ('since', 'IN'), ('I', 'PRP'), ('written', 'VBN'), ('anything', 'NN'), ('blog', 'NN'), ('I', 'PRP'), ('kept', 'VBD'), ('busy', 'JJ'), ('I', 'PRP'), ('found', 'VBD'), ('enough', 'JJ'), ('time', 'NN'), ('stuff', 'JJ'), ('write', 'NN'), ('I', 'PRP'), ('contemplating', 'VBG'), ('write', 'JJ'), ('mundane', 'JJ'), ('life', 'NN'), ('kuantan', 'VBD'), ('personal', 'JJ'), ('feeling', 'NN'), ('I', 'PRP'), ('decided', 'VBD'), ('I', 'PRP'), ('would', 'MD'), ('write', 'VB'), ('ever', 'RB'), ('cross', 'NN'), ('mind', 'NN'), ('internet', 'JJ'), ('journalistic', 'JJ'), ('heaven', 'NN'), ('So', 'NNP'), ('go', 'VB'), ('Do', 'NNP'), ('need', 'VB'), ('lover', 'VB'), ('I', 'PRP'), ('non', 'VBP'), ('believer', 'RB'), ('lovey', 'JJ'), ('dovey', 'NN'), ('crap', 'NN'), ('get', 'VB'), ('emotionally', 'RB'), ('involved', 'VBN'), ('get', 'VB'), ('life', 'NN'), ('mess', 'NN'), ('That', 'IN'), ('impression', 'NN'), ('I', 'PRP'), ('got', 'VBD'), ('love', 'JJ'), ('life', 'NN'), ('people', 'NNS'), ('around', 'IN'), ('I', 'PRP'), ('happily', 'RB'), ('living', 'VBG'), ('swinging', 'VBG'), ('single', 'JJ'), ('life', 'NN'), ('met', 'VBD'), ('someonefor', 'NNS'), ('know', 'VBP'), ('skip', 'JJ'), ('bit', 'NN'), ('It', 'PRP'), ('different', 'JJ'), ('feeling', 'VBG'), ('loved', 'VBD'), ('loving', 'VBG'), ('someone', 'NN'), ('else', 'RB'), ('We', 'PRP'), ('part', 'NN'), ('way', 'NN'), ('I', 'PRP'), ('think', 'VBP'), ('never', 'RB'), ('forget', 'VBP'), ('experience', 'NN'), ('Quoting', 'VBG'), ('Tennyson', 'NNP'), ('I', 'PRP'), ('hold', 'VBP'), ('true', 'JJ'), ('whateer', 'NN'), ('befall', 'NN'), ('I', 'PRP'), ('feel', 'VBP'), ('I', 'PRP'), ('sorrow', 'VBP'), ('Tis', 'NNP'), ('better', 'JJR'), ('loved', 'VBD'), ('lost', 'VBN'), ('Than', 'NNP'), ('never', 'RB'), ('loved', 'VBD'), ('Suddenly', 'RB'), ('love', 'VB'), ('song', 'JJ'), ('start', 'NN'), ('mean', 'NN'), ('something', 'NN'), ('Ever', 'NNP'), ('since', 'IN'), ('I', 'PRP'), ('looking', 'VBG'), ('someone', 'NN'), ('fill', 'NN'), ('void', 'JJ'), ('easy', 'JJ'), ('fact', 'NN'), ('hard', 'JJ'), ('I', 'PRP'), ('resinged', 'VBD'), ('fact', 'NN'), ('better', 'RBR'), ('let', 'VB'), ('thing', 'NN'), ('hopefully', 'RB'), ('love', 'VBP'), ('come', 'JJ'), ('knocking', 'NN'), ('So', 'NNP'), ('need', 'IN'), ('lover', 'NN'), ('I', 'PRP'), ('think', 'VBP'), ('maybe', 'RB'), ('cant', 'JJ'), ('find', 'VBP'), ('one', 'CD'), ('make', 'NN'), ('sure', 'JJ'), ('friend', 'NN'), ('never', 'RB'), ('neglect', 'JJ'), ('friend', 'NN'), ('hard', 'JJ'), ('find', 'VBP'), ('true', 'JJ'), ('friend', 'NN'), ('standing', 'VBG'), ('thick', 'JJ'), ('thin', 'JJ'), ('god', 'NN'), ('ever', 'RB'), ('possessed', 'VBD'), ('write', 'JJ'), ('stuff', 'NN'), ('30April2003', 'CD'), ('coffee', 'NN'), ('count', 'NN'), ('XXXX', 'NNP'), ('I', 'PRP'), ('prompted', 'VBD'), ('write', 'JJ'), ('blog', 'NN'), ('I', 'PRP'), ('saw', 'VBD'), ('person', 'NN'), ('workplace', 'NN'), ('I', 'PRP'), ('laying', 'VBG'), ('eye', 'NN'), ('year', 'NN'), ('ever', 'RB'), ('feeling', 'VBG'), ('attracted', 'VBD'), ('one', 'CD'), ('strong', 'JJ'), ('cant', 'NN'), ('stop', 'NN'), ('looking', 'VBG'), ('lusting', 'NN'), ('Of', 'IN'), ('course', 'NN'), ('think', 'VBP'), ('never', 'RB'), ('notice', 'RB'), ('might', 'MD'), ('acted', 'VB'), ('notice', 'JJ'), ('maybe', 'RB'), ('deep', 'JJ'), ('penetrating', 'VBG'), ('ok', 'JJ'), ('maybe', 'RB'), ('look', 'VBP'), ('normal', 'JJ'), ('gaze', 'NN'), ('u', 'JJ'), ('get', 'NN'), ('time', 'NN'), ('It', 'PRP'), ('silent', 'JJ'), ('admiration', 'NN'), ('flirt', 'NN'), ('maybe', 'RB'), ('one', 'CD'), ('year', 'NN'), ('looking', 'VBG'), ('afar', 'RB'), ('never', 'RB'), ('able', 'JJ'), ('touch', 'NN'), ('getting', 'VBG'), ('close', 'JJ'), ('Only', 'RB'), ('imagining', 'VBG'), ('would', 'MD'), ('like', 'VB'), ('together', 'RB'), ('Would', 'NNP'), ('happier', 'VB'), ('Why', 'WRB'), ('make', 'VBP'), ('first', 'JJ'), ('move', 'NN'), ('even', 'RB'), ('try', 'VB'), ('friend', 'NN'), ('We', 'PRP'), ('lift', 'VBP'), ('many', 'JJ'), ('time', 'NN'), ('sitting', 'VBG'), ('across', 'IN'), ('cafeteria', 'NN'), ('alone', 'RB'), ('breakfast', 'NN'), ('I', 'PRP'), ('guess', 'VBP'), ('situation', 'NN'), ('permit', 'NN'), ('thing', 'NN'), ('happen', 'NN'), ('I', 'PRP'), ('wonder', 'VBP'), ('would', 'MD'), ('like', 'VB'), ('thing', 'NN'), ('different', 'JJ'), ('25April2003', 'CD'), ('coffee', 'NN'), ('count', 'NN'), ('XXX', 'NNP'), ('God', 'NNP'), ('I', 'PRP'), ('came', 'VBD'), ('back', 'RB'), ('2', 'CD'), ('day', 'NN'), ('meeting', 'NN'), ('everybody', 'NN'), ('say', 'VBP'), ('slim', 'NNS'), ('used', 'VBN'), ('fat', 'VBP'), ('The', 'DT'), ('final', 'JJ'), ('nail', 'NN'), ('coffin', 'NN'), ('came', 'VBD'), ('GM', 'NNP'), ('saw', 'VBD'), ('first', 'JJ'), ('day', 'NN'), ('I', 'PRP'), ('think', 'VBP'), ('new', 'JJ'), ('hair', 'NN'), ('I', 'PRP'), ('cropped', 'VBD'), ('veryvery', 'NN'), ('short', 'JJ'), ('I', 'PRP'), ('think', 'VBP'), ('need', 'MD'), ('go', 'VB'), ('diet', 'JJ'), ('get', 'VB'), ('loose', 'JJ'), ('weight', 'NN'), ('I', 'PRP'), ('gained', 'VBD'), ('started', 'JJ'), ('work', 'NN'), ('It', 'PRP'), ('seems', 'VBZ'), ('going', 'VBG'), ('diet', 'JJ'), ('easy', 'JJ'), ('need', 'NN'), ('plan', 'NN'), ('target', 'VB'), ('extremely', 'RB'), ('strong', 'JJ'), ('self', 'NN'), ('get', 'NN'), ('So', 'NNP'), ('set', 'VBD'), ('target', 'NN'), ('loose', 'JJ'), ('5kg', 'CD'), ('end', 'NN'), ('year', 'NN'), ('Do', 'NNP'), ('think', 'VB'), ('14April2003', 'CD'), ('coffee', 'NN'), ('count', 'NN'), ('XXXX', 'NNP'), ('Its', 'PRP$'), ('long', 'JJ'), ('time', 'NN'), ('since', 'IN'), ('ive', 'JJ'), ('updated', 'JJ'), ('blog', 'NN'), ('I', 'PRP'), ('busy', 'JJ'), ('dont', 'JJ'), ('burning', 'VBG'), ('issue', 'NN'), ('write', 'RB'), ('So', 'RB'), ('ever', 'RB'), ('get', 'VB'), ('one', 'CD'), ('Is', 'NNP'), ('possible', 'JJ'), ('forget', 'NN'), ('one', 'CD'), ('shared', 'VBD'), ('much', 'RB'), ('emotionally', 'RB'), ('physically', 'RB'), ('How', 'NNP'), ('get', 'VB'), ('one', 'CD'), ('thing', 'NN'), ('Do', 'NNP'), ('find', 'VB'), ('empty', 'JJ'), ('love', 'VB'), ('ever', 'RB'), ('meet', 'VB'), ('let', 'JJ'), ('time', 'NN'), ('heal', 'VB'), ('wound', 'IN'), ('move', 'NN'), ('I', 'PRP'), ('guess', 'VBD'), ('every', 'DT'), ('one', 'CD'), ('hisher', 'JJR'), ('way', 'NN'), ('getting', 'VBG'), ('one', 'CD'), ('As', 'IN'), ('I', 'PRP'), ('found', 'VBD'), ('way', 'NN'), ('I', 'PRP'), ('guess', 'VBP'), ('way', 'NN'), ('really', 'RB'), ('move', 'VB'), ('find', 'VB'), ('one', 'CD'), ('true', 'JJ'), ('love', 'NN'), ('replace', 'VB'), ('special', 'JJ'), ('one', 'CD'), ('It', 'PRP'), ('slow', 'JJ'), ('search', 'NN'), ('replacement', 'NN'), ('I', 'PRP'), ('dont', 'VBP'), ('think', 'VBP'), ('I', 'PRP'), ('choosy', 'VBP'), ('I', 'PRP'), ('dont', 'VBP'), ('think', 'VB'), ('settle', 'JJ'), ('second', 'JJ'), ('best', 'JJS'), ('thing', 'NN'), ('concerning', 'VBG'), ('matter', 'NN'), ('heart', 'NN'), ('Do', 'VBP'), ('A', 'DT'), ('different', 'JJ'), ('subject', 'NN'), ('I', 'PRP'), ('think', 'VBP'), ('mediaTV', 'JJ'), ('magazine', 'NN'), ('radio', 'NN'), ('etc', 'FW'), ('taken', 'VBN'), ('strong', 'JJ'), ('grip', 'NN'), ('perception', 'NN'), ('real', 'JJ'), ('life', 'NN'), ('It', 'PRP'), ('possibly', 'RB'), ('distorted', 'VBD'), ('real', 'JJ'), ('life', 'NN'), ('like', 'IN'), ('Does', 'NNP'), ('every', 'DT'), ('one', 'CD'), ('look', 'NN'), ('great', 'JJ'), ('like', 'IN'), ('bodyguard', 'NN'), ('baywatch', 'NN'), ('CK', 'NNP'), ('underwear', 'JJ'), ('model', 'NN'), ('basically', 'RB'), ('model', 'VBZ'), ('It', 'PRP'), ('lead', 'JJ'), ('general', 'JJ'), ('population', 'NN'), ('including', 'VBG'), ('aspire', 'NN'), ('muscled', 'VBD'), ('six', 'CD'), ('pack', 'NN'), ('ab', 'NN'), ('perfection', 'NN'), ('Why', 'WRB'), ('people', 'NNS'), ('put', 'VBP'), ('soo', 'RB'), ('much', 'JJ'), ('emphasis', 'NN'), ('physical', 'JJ'), ('appearance', 'NN'), ('Yes', 'VBD'), ('I', 'PRP'), ('think', 'VBP'), ('need', 'JJ'), ('basis', 'NN'), ('start', 'NN'), ('would', 'MD'), ('shallow', 'VB'), ('put', 'VB'), ('soo', 'RB'), ('much', 'JJ'), ('emphasis', 'NN'), ('physical', 'JJ'), ('appearance', 'NN'), ('Everyone', 'NNP'), ('yardstick', 'JJ'), ('measure', 'NN'), ('people', 'NNS'), ('It', 'PRP'), ('choice', 'NN'), ('Back', 'NNP'), ('medium', 'NN'), ('think', 'NN'), ('ever', 'RB'), ('get', 'VB'), ('see', 'JJ'), ('real', 'JJ'), ('people', 'NNS'), ('real', 'JJ'), ('issue', 'NN'), ('TV', 'NN'), ('anymore', 'RB'), ('Even', 'RB'), ('real', 'JJ'), ('life', 'NN'), ('TV', 'NN'), ('programme', 'NN'), ('real', 'JJ'), ('strictest', 'JJS'), ('sense', 'NN'), ('Survivor', 'NNP'), ('Big', 'NNP'), ('Brother', 'NNP'), ('Pop', 'NNP'), ('Stars', 'NNP'), ('think', 'VBP'), ('pre', 'NN'), ('programmed', 'VBN'), ('reality', 'NN'), ('show', 'VBP'), ('The', 'DT'), ('editor', 'NN'), ('director', 'NN'), ('show', 'VBP'), ('half', 'JJ'), ('story', 'NN'), ('It', 'PRP'), ('entertaining', 'VBG'), ('real', 'JJ'), ('Even', 'RB'), ('news', 'NN'), ('nowadays', 'NNS'), ('sugar', 'NN'), ('coated', 'VBD'), ('told', 'JJ'), ('way', 'NN'), ('suit', 'NN'), ('agendaX', 'VBZ'), ('Files', 'NNP'), ('anyone', 'NN'), ('world', 'NN'), ('stage', 'NN'), ('everyone', 'NN'), ('part', 'NN'), ('The', 'DT'), ('current', 'JJ'), ('coke', 'NN'), ('ad', 'NN'), ('creative', 'JJ'), ('simple', 'JJ'), ('image', 'NN'), ('simple', 'JJ'), ('message', 'NN'), ('great', 'JJ'), ('impact', 'NN'), ('16May2003', 'CD'), ('coffee', 'NN'), ('count', 'NN'), ('X', 'NNP'), ('Today', 'NNP'), ('topic', 'VBP'), ('civic', 'JJ'), ('conciousness', 'NN'), ('civilized', 'VBD'), ('I', 'PRP'), ('went', 'VBD'), ('beach', 'NN'), ('last', 'JJ'), ('2', 'CD'), ('week', 'NN'), ('4th', 'CD'), ('May', 'NNP'), ('friend', 'NN'), ('bored', 'VBD'), ('nothing', 'NN'), ('We', 'PRP'), ('drove', 'VBD'), ('hour', 'NN'), ('find', 'NN'), ('suitable', 'JJ'), ('beach', 'NN'), ('I', 'PRP'), ('trying', 'VBG'), ('find', 'VBP'), ('changing', 'VBG'), ('room', 'NN'), ('way', 'NN'), ('walking', 'VBG'), ('food', 'NN'), ('court', 'NN'), ('area', 'NN'), ('I', 'PRP'), ('shocked', 'VBD'), ('place', 'NN'), ('infested', 'VBN'), ('fly', 'JJ'), ('mean', 'JJ'), ('fly', 'NN'), ('everywhere', 'RB'), ('The', 'DT'), ('restaurant', 'NN'), ('owner', 'NN'), ('seems', 'VBZ'), ('oblivious', 'JJ'), ('condition', 'NN'), ('I', 'PRP'), ('guess', 'VBP'), ('used', 'VBN'), ('seeing', 'VBG'), ('fly', 'JJ'), ('find', 'VBP'), ('normal', 'JJ'), ('The', 'DT'), ('fly', 'NN'), ('even', 'RB'), ('beach', 'VBD'), ('It', 'PRP'), ('dirty', 'VBZ'), ('Ive', 'NNP'), ('seen', 'VBN'), ('family', 'NN'), ('picknicking', 'VBG'), ('beach', 'NN'), ('bothered', 'VBD'), ('dispose', 'JJ'), ('garbage', 'NN'), ('properly', 'RB'), ('What', 'WP'), ('kind', 'NN'), ('message', 'NN'), ('parent', 'NN'), ('sending', 'VBG'), ('child', 'JJ'), ('ok', 'JJ'), ('throw', 'NN'), ('rubbish', 'NN'), ('anywhere', 'RB'), ('except', 'IN'), ('house', 'NN'), ('The', 'DT'), ('Not', 'RB'), ('In', 'IN'), ('My', 'NNP'), ('Own', 'NNP'), ('Backyard', 'NNP'), ('syndrome', 'VBD'), ('It', 'PRP'), ('quite', 'RB'), ('impossible', 'JJ'), ('change', 'NN'), ('mindset', 'NN'), ('people', 'NNS'), ('better', 'RBR'), ('instill', 'VB'), ('value', 'NN'), ('childhood', 'NN'), ('civic', 'NN'), ('minded', 'VBD'), ('07May2003', 'CD'), ('coffee', 'NN'), ('count', 'NN'), ('XXXX', 'NNP'), ('love', 'NN'), ('dont', 'NN'), ('die', 'VBP'), ('one', 'CD'), ('line', 'NN'), ('got', 'VBD'), ('watching', 'VBG'), ('tv', 'NN'), ('today', 'NN'), ('I', 'PRP'), ('also', 'RB'), ('figured', 'VBD'), ('blog', 'NN'), ('express', 'NN'), ('write', 'JJ'), ('think', 'VBP'), ('feel', 'VB'), ('26June2003', 'CD'), ('woohoo', 'NN'), ('At', 'IN'), ('last', 'JJ'), ('managed', 'VBD'), ('get', 'VB'), ('comment', 'JJ'), ('system', 'NN'), ('running', 'VBG'), ('blog', 'RB'), ('least', 'JJS'), ('think', 'VBP'), ('I', 'PRP'), ('managed', 'VBD'), ('first', 'JJ'), ('try', 'NN'), ('I', 'PRP'), ('still', 'RB'), ('geek', 'VBP'), ('touch', 'RB'), ('somewhere', 'RB'), ('hehe', 'VB'), ('What', 'WP'), ('made', 'VBD'), ('put', 'VBN'), ('comment', 'NN'), ('system', 'NN'), ('I', 'PRP'), ('put', 'VBP'), ('comment', 'JJ'), ('blog', 'NN'), ('barn', 'NN'), ('urlLink', 'VBP'), ('httpbarnsblogcitycom', 'NN'), ('urlLink', 'NN'), ('mentioned', 'VBD'), ('comment', 'NN'), ('web', 'NN'), ('site', 'NN'), ('pleasantly', 'RB'), ('suprised', 'VBD'), ('He', 'PRP'), ('said', 'VBD'), ('cant', 'JJ'), ('put', 'VBD'), ('comment', 'JJ'), ('blog', 'NN'), ('began', 'VBD'), ('Anyway', 'NNP'), ('guess', 'NN'), ('need', 'NN'), ('put', 'VBD'), ('comment', 'JJ'), ('system', 'NN'), ('running', 'VBG'), ('people', 'NNS'), ('give', 'VBP'), ('thought', 'JJ'), ('thing', 'NN'), ('wrote', 'VBD'), ('I', 'PRP'), ('mentioned', 'VBD'), ('want', 'VBP'), ('put', 'VBN'), ('level', 'NN'), ('interactiveness', 'NN'), ('blog', 'NN'), ('thanks', 'NNS'), ('urlLink', 'VBP'), ('httpwwwsquawkboxtv', '$'), ('19June2003', 'CD')]\n"
     ]
    }
   ],
   "source": [
    "Tagged2=pos_tagging(words2) #tagging for corpus2"
   ]
  },
  {
   "cell_type": "code",
   "execution_count": 43,
   "metadata": {},
   "outputs": [
    {
     "name": "stdout",
     "output_type": "stream",
     "text": [
      "Counter({'NN': 348, 'JJ': 164, 'RB': 81, 'PRP': 79, 'VBD': 65, 'VBP': 61, 'NNP': 56, 'VB': 49, 'VBG': 46, 'CD': 37, 'IN': 28, 'MD': 15, 'DT': 15, 'VBN': 14, 'NNS': 12, 'VBZ': 8, 'JJS': 4, 'JJR': 3, 'RBR': 3, 'WRB': 3, 'FW': 2, 'PRP$': 2, 'WP': 2, '$': 1})\n"
     ]
    }
   ],
   "source": [
    "counts2=counter(Tagged2)\n",
    "print(counts2)"
   ]
  },
  {
   "cell_type": "code",
   "execution_count": null,
   "metadata": {},
   "outputs": [],
   "source": []
  }
 ],
 "metadata": {
  "kernelspec": {
   "display_name": "Python 3",
   "language": "python",
   "name": "python3"
  },
  "language_info": {
   "codemirror_mode": {
    "name": "ipython",
    "version": 3
   },
   "file_extension": ".py",
   "mimetype": "text/x-python",
   "name": "python",
   "nbconvert_exporter": "python",
   "pygments_lexer": "ipython3",
   "version": "3.8.3"
  }
 },
 "nbformat": 4,
 "nbformat_minor": 4
}

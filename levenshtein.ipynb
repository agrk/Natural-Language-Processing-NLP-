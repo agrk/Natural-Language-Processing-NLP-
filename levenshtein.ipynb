{
  "nbformat": 4,
  "nbformat_minor": 0,
  "metadata": {
    "colab": {
      "name": "Untitled1.ipynb",
      "provenance": []
    },
    "kernelspec": {
      "name": "python3",
      "display_name": "Python 3"
    }
  },
  "cells": [
    {
      "cell_type": "code",
      "metadata": {
        "id": "zEd31fjn-vu0"
      },
      "source": [
        "import nltk\r\n",
        "from collections import Counter\r\n",
        "import pandas as pd \r\n"
      ],
      "execution_count": null,
      "outputs": []
    },
    {
      "cell_type": "code",
      "metadata": {
        "colab": {
          "base_uri": "https://localhost:8080/"
        },
        "id": "DieVkz_R-x3T",
        "outputId": "623aa25b-6417-49c7-da09-4e4a6dc3c672"
      },
      "source": [
        "import numpy as np\r\n",
        "\r\n",
        "def levenshtein(seq1, seq2):\r\n",
        "    size_x = len(seq1) + 1\r\n",
        "    size_y = len(seq2) + 1\r\n",
        "    matrix = np.zeros ((size_x, size_y))\r\n",
        "    for x in range(size_x):\r\n",
        "        matrix [x, 0] = x\r\n",
        "    for y in range(size_y):\r\n",
        "        matrix [0, y] = y\r\n",
        "\r\n",
        "    for x in range(1, size_x):\r\n",
        "        for y in range(1, size_y):\r\n",
        "            if seq1[x-1] == seq2[y-1]:\r\n",
        "                matrix [x,y] = min(\r\n",
        "                    matrix[x-1, y] + 1,\r\n",
        "                    matrix[x-1, y-1],\r\n",
        "                    matrix[x, y-1] + 1\r\n",
        "                )\r\n",
        "            else:\r\n",
        "                matrix [x,y] = min(\r\n",
        "                    matrix[x-1,y] + 1,\r\n",
        "                    matrix[x-1,y-1] + 1,\r\n",
        "                    matrix[x,y-1] + 1\r\n",
        "                )\r\n",
        "    #print (matrix)\r\n",
        "    return (matrix[size_x - 1, size_y - 1])\r\n",
        "\r\n",
        "a=\"drive\"\r\n",
        "b=\"drove\"\r\n",
        "levenshtein(a,b)"
      ],
      "execution_count": null,
      "outputs": [
        {
          "output_type": "execute_result",
          "data": {
            "text/plain": [
              "1.0"
            ]
          },
          "metadata": {
            "tags": []
          },
          "execution_count": 97
        }
      ]
    },
    {
      "cell_type": "code",
      "metadata": {
        "colab": {
          "base_uri": "https://localhost:8080/"
        },
        "id": "Tlt3sAqJ-0R5",
        "outputId": "2a528b36-5adb-4d5a-c348-14eecb55520f"
      },
      "source": [
        "from google.colab import drive\r\n",
        "drive.mount('/content/drive')"
      ],
      "execution_count": null,
      "outputs": [
        {
          "output_type": "stream",
          "text": [
            "Drive already mounted at /content/drive; to attempt to forcibly remount, call drive.mount(\"/content/drive\", force_remount=True).\n"
          ],
          "name": "stdout"
        }
      ]
    },
    {
      "cell_type": "code",
      "metadata": {
        "id": "CVkH_Ka0_bn6"
      },
      "source": [
        "f = open('/content/drive/My Drive/asile/396.txt', 'r', encoding='utf8')"
      ],
      "execution_count": null,
      "outputs": []
    },
    {
      "cell_type": "code",
      "metadata": {
        "id": "lQvC1HHL_cb6"
      },
      "source": [
        "text= f.read()"
      ],
      "execution_count": null,
      "outputs": []
    },
    {
      "cell_type": "code",
      "metadata": {
        "colab": {
          "base_uri": "https://localhost:8080/",
          "height": 120
        },
        "id": "5Gz_oekk_xSR",
        "outputId": "8b4e71be-a734-4f47-be01-6804d3f9a8ec"
      },
      "source": [
        "text"
      ],
      "execution_count": null,
      "outputs": [
        {
          "output_type": "execute_result",
          "data": {
            "application/vnd.google.colaboratory.intrinsic+json": {
              "type": "string"
            },
            "text/plain": [
              "\"Bir prensten evlenme teklifi alma yaşı resmi olarak 36’ya çıktı! Müteveffa Diana’nın müstakbel gelini Meghan Markle, 30’ların ortalarındaki kızlarına ‘evde kaldı’ iması yapan bütün telaşlı anneleri sindirdi\\nBizim kraliyet aileleriyle ilişkimizi kuran, çocukluğumuzun Hayat dergileridir. Grace Kelly efsane, Caroline pürüzsüz, Stephanie asiydi. Diana öldüğünde perişan olmuştuk.\\nO zamanlar Meghan Markle gibi birinin prensesliğinin tahayyülü bile zordu. Olmaz ya, hadi asaleti aktivizmle replase ettik diyelim... Ama prenseslik biraz da ciltte porselenlik demek değil miydi?\\nÇok ufak ihtimal ama velev ki oldu... O zaman da bin kamyon laf edilirdi. Kadının ne yaşı kalırdı, ne soyağacı... Ne kariyerindeki eksiği gediği, ne yüzündeki benleri... Ne daha önce evlenmişliği, ne eski kocasının serüvenleri...\\nAma artık sadece 50'nin yeni 30 olduğu değil, vitiligonun (hani pigment yetersizliği yüzünden ciltte oluşan haritalar) da moda olduğu zamanlardayız. Yaşın önemsenmediği, eskiden kusur sayılan lekelerin ise güzellik, ayrıcalık, biriciklik olarak görüldüğü bir dönem bu.\\nFarklı ırk ve renk, eskinin Benetton şimdinin Gap reklamlarının zenginliği, çeşitliliği demek. Bunu dile bile getirmiyor artık dünya...\\nHerkes kendi birey olarak nitelikleriyle var, soylu atasının ya da maden işçisi dedesininkilerle değil.\\nEvlenip boşanmış olmak 'ama'sıyla, 'niye'siyle akla düştüğü üzere bir 'defo' olmaktan çıkalı hele, çok oldu. Tam tersi bir 'becermişlik', 'istenmişlik', 'yaşanmışlık' tecrübesi olarak artı hanesine yazılı...\\nDizi oyunculuğu, sinemanın yanında hor görüldü, o daha ulvi amaca giden idealist yolda para kazanmak için zoraki katlanılan bir işmiş gibi sunuldu yıllarca. Şimdiyse sinemayı neredeyse ezdi dizi sektörü ve içinde olmak son derece makbul bir pozisyon.\\nBütün bunları alt alta yazdığımızda ortaya çıkan, belki 40 yıl öncesinin değil ama tam da bu dönemin prensesi Meghan Markle. Bebeksi ve meleksi bir güzelliği yok ama ışıklı... Dünya dertlerine duyarlı...\\nHerkesi, bilhassa da kızları 30'u geçince karalar bağlayan ve tantanaya başlayan anneleri hayata bağlayacak denli umut veriyor bir de: Her kadın bir gün prenses olabilir!\\n\""
            ]
          },
          "metadata": {
            "tags": []
          },
          "execution_count": 136
        }
      ]
    },
    {
      "cell_type": "code",
      "metadata": {
        "id": "LNXehl0d_0wZ"
      },
      "source": [
        "text_lower=text.lower()\r\n",
        "new_text=text_lower.split()"
      ],
      "execution_count": null,
      "outputs": []
    },
    {
      "cell_type": "code",
      "metadata": {
        "id": "9f3scYYxACxJ"
      },
      "source": [
        "frekans=nltk.FreqDist(new_text)\r\n",
        "frekans_count=Counter(frekans) #get the frequency \r\n",
        "bigram_values=list(frekans_count.values())\r\n",
        "list_bigram=list(frekans_count) #list of all "
      ],
      "execution_count": null,
      "outputs": []
    },
    {
      "cell_type": "code",
      "metadata": {
        "id": "khaxr_tLADUz"
      },
      "source": [
        "high = []\r\n",
        "low = []"
      ],
      "execution_count": null,
      "outputs": []
    },
    {
      "cell_type": "code",
      "metadata": {
        "id": "tgt9jJq-ARMZ"
      },
      "source": [
        "for x in range(len(frekans_count)): #3den azsa low çoksa high\r\n",
        "  if bigram_values[x]<3:\r\n",
        "    low.append(list_bigram[x])\r\n",
        "  else :\r\n",
        "    high.append(list_bigram[x])"
      ],
      "execution_count": null,
      "outputs": []
    },
    {
      "cell_type": "code",
      "metadata": {
        "id": "3r0I2AgdAUNf"
      },
      "source": [
        "h = high\r\n",
        "l = low\r\n",
        "dd = []\r\n",
        "wr = []"
      ],
      "execution_count": null,
      "outputs": []
    },
    {
      "cell_type": "code",
      "metadata": {
        "id": "AD_S1LYcAcEY"
      },
      "source": [
        "for j in range (len(low)):\r\n",
        "   for i in range(len(high)):\r\n",
        "       if levenshtein(l[j],h[i]) == 1.0 :\r\n",
        "        dd.append(h[i])\r\n",
        "        wr.append(l[j])\r\n",
        "        d= {'low':wr,\r\n",
        "        'high': dd}\r\n",
        "        df = pd.DataFrame(d)"
      ],
      "execution_count": null,
      "outputs": []
    },
    {
      "cell_type": "code",
      "metadata": {
        "colab": {
          "base_uri": "https://localhost:8080/",
          "height": 136
        },
        "id": "sLnZ6ATvAcs4",
        "outputId": "254058f4-5adc-4336-abc3-5b413bf605bd"
      },
      "source": [
        "df"
      ],
      "execution_count": null,
      "outputs": [
        {
          "output_type": "execute_result",
          "data": {
            "text/html": [
              "<div>\n",
              "<style scoped>\n",
              "    .dataframe tbody tr th:only-of-type {\n",
              "        vertical-align: middle;\n",
              "    }\n",
              "\n",
              "    .dataframe tbody tr th {\n",
              "        vertical-align: top;\n",
              "    }\n",
              "\n",
              "    .dataframe thead th {\n",
              "        text-align: right;\n",
              "    }\n",
              "</style>\n",
              "<table border=\"1\" class=\"dataframe\">\n",
              "  <thead>\n",
              "    <tr style=\"text-align: right;\">\n",
              "      <th></th>\n",
              "      <th>low</th>\n",
              "      <th>high</th>\n",
              "    </tr>\n",
              "  </thead>\n",
              "  <tbody>\n",
              "    <tr>\n",
              "      <th>0</th>\n",
              "      <td>alma</td>\n",
              "      <td>ama</td>\n",
              "    </tr>\n",
              "    <tr>\n",
              "      <th>1</th>\n",
              "      <td>bin</td>\n",
              "      <td>bir</td>\n",
              "    </tr>\n",
              "    <tr>\n",
              "      <th>2</th>\n",
              "      <td>ya</td>\n",
              "      <td>da</td>\n",
              "    </tr>\n",
              "  </tbody>\n",
              "</table>\n",
              "</div>"
            ],
            "text/plain": [
              "    low high\n",
              "0  alma  ama\n",
              "1   bin  bir\n",
              "2    ya   da"
            ]
          },
          "metadata": {
            "tags": []
          },
          "execution_count": 143
        }
      ]
    },
    {
      "cell_type": "code",
      "metadata": {
        "id": "Kmy2Vg3YAfyQ"
      },
      "source": [
        ""
      ],
      "execution_count": null,
      "outputs": []
    }
  ]
}
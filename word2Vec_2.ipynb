{
  "nbformat": 4,
  "nbformat_minor": 0,
  "metadata": {
    "colab": {
      "name": "task8_teslim3.ipynb",
      "provenance": []
    },
    "kernelspec": {
      "name": "python3",
      "display_name": "Python 3"
    }
  },
  "cells": [
    {
      "cell_type": "code",
      "metadata": {
        "colab": {
          "base_uri": "https://localhost:8080/"
        },
        "id": "nmrGJEsCXcFM",
        "outputId": "b945f04e-b9eb-43cc-c0d3-25c3af301c52"
      },
      "source": [
        "from gensim.models import Word2Vec\r\n",
        "from nltk import word_tokenize,sent_tokenize \r\n",
        "from nltk.stem import PorterStemmer \r\n",
        "import nltk\r\n",
        "from nltk.corpus import stopwords\r\n",
        "import nltk\r\n",
        "nltk.download('punkt')"
      ],
      "execution_count": null,
      "outputs": [
        {
          "output_type": "stream",
          "text": [
            "[nltk_data] Downloading package punkt to /root/nltk_data...\n",
            "[nltk_data]   Package punkt is already up-to-date!\n"
          ],
          "name": "stdout"
        },
        {
          "output_type": "execute_result",
          "data": {
            "text/plain": [
              "True"
            ]
          },
          "metadata": {
            "tags": []
          },
          "execution_count": 2
        }
      ]
    },
    {
      "cell_type": "code",
      "metadata": {
        "colab": {
          "base_uri": "https://localhost:8080/"
        },
        "id": "5y2hoGGjXlcu",
        "outputId": "27fc7ece-4422-4e87-c4e6-24362c986fdd"
      },
      "source": [
        "nltk.download('stopwords') \r\n",
        "ps = PorterStemmer() "
      ],
      "execution_count": null,
      "outputs": [
        {
          "output_type": "stream",
          "text": [
            "[nltk_data] Downloading package stopwords to /root/nltk_data...\n",
            "[nltk_data]   Unzipping corpora/stopwords.zip.\n"
          ],
          "name": "stdout"
        }
      ]
    },
    {
      "cell_type": "code",
      "metadata": {
        "colab": {
          "base_uri": "https://localhost:8080/"
        },
        "id": "__qSXtQyXp1N",
        "outputId": "cdfb6cb5-ac58-4c75-dd1b-7a8b98a93f45"
      },
      "source": [
        "from google.colab import drive\r\n",
        "drive.mount('/content/drive')"
      ],
      "execution_count": null,
      "outputs": [
        {
          "output_type": "stream",
          "text": [
            "Mounted at /content/drive\n"
          ],
          "name": "stdout"
        }
      ]
    },
    {
      "cell_type": "code",
      "metadata": {
        "colab": {
          "base_uri": "https://localhost:8080/"
        },
        "id": "0yP-3pCFXp4f",
        "outputId": "c6c67962-97aa-4c87-9d33-0dbd5805dfc1"
      },
      "source": [
        "f = open('/content/drive/My Drive/asile/new_text.txt', 'r')\r\n",
        "text = f.read()\r\n",
        "corpus=sent_tokenize(text)\r\n",
        "corpus"
      ],
      "execution_count": null,
      "outputs": [
        {
          "output_type": "execute_result",
          "data": {
            "text/plain": [
              "['This device is great in several situations.',\n",
              " 'This is a beautiful phone.',\n",
              " 'I said that this device is great in several situations.',\n",
              " 'I love this thing!',\n",
              " 'I love this song!',\n",
              " 'Love this product.',\n",
              " 'It is very comfortable on the ear.',\n",
              " 'The car was comfortable.',\n",
              " 'She said thah I want to buy a comfortable car.',\n",
              " \"I hope you're making the right choice.\",\n",
              " \"That's not disciprine.\",\n",
              " \"I'm gonna miss him.\",\n",
              " \"I'm gonna miss Chef.\",\n",
              " 'Chef is going away.',\n",
              " \"Chef said he's been bored.\"]"
            ]
          },
          "metadata": {
            "tags": []
          },
          "execution_count": 12
        }
      ]
    },
    {
      "cell_type": "code",
      "metadata": {
        "colab": {
          "base_uri": "https://localhost:8080/"
        },
        "id": "KoBS9zBpXqAI",
        "outputId": "acb8ca71-8d2f-489e-b74c-846adbc2a9c1"
      },
      "source": [
        "# removal of stopwords \r\n",
        "stop_words = list(stopwords.words('english')) \r\n",
        "  \r\n",
        "# removal of punctuation signs \r\n",
        "punc = '''!()-[]{};:'\"\\, <>./?@#$%^&*_~'''\r\n",
        "s = [(word_tokenize(corpus[i])) for i in range(len(corpus))] \r\n",
        "outer_1 = [] \r\n",
        "  \r\n",
        "for i in range(len(s)): \r\n",
        "    inner_1 = [] \r\n",
        "      \r\n",
        "    for j in range(len(s[i])): \r\n",
        "          \r\n",
        "        if s[i][j] not in (punc or stop_words): \r\n",
        "            s[i][j] = ps.stem(s[i][j]) \r\n",
        "              \r\n",
        "            if s[i][j] not in stop_words: \r\n",
        "                inner_1.append(s[i][j].lower()) \r\n",
        "      \r\n",
        "    outer_1.append(set(inner_1)) \r\n",
        "rvector = outer_1[0] \r\n",
        "  \r\n",
        "for i in range(1, len(s)): \r\n",
        "    rvector = rvector.union(outer_1[i]) \r\n",
        "outer = [] \r\n",
        "  \r\n",
        "for i in range(len(outer_1)): \r\n",
        "    inner = [] \r\n",
        "      \r\n",
        "    for w in rvector: \r\n",
        "          \r\n",
        "        if w in outer_1[i]: \r\n",
        "            inner.append(1) \r\n",
        "          \r\n",
        "        else: \r\n",
        "            inner.append(0) \r\n",
        "    outer.append(inner) \r\n",
        "comparison = input(\"Input: \") \r\n",
        "  \r\n",
        "  \r\n",
        "check = (word_tokenize(comparison)) \r\n",
        "check = [ps.stem(check[i]).lower() for i in range(len(check))] \r\n",
        "  \r\n",
        "  \r\n",
        "check1 = [] \r\n",
        "for w in rvector: \r\n",
        "    if w in check: \r\n",
        "        check1.append(1)  # create a vector \r\n",
        "    else: \r\n",
        "        check1.append(0) \r\n",
        "  \r\n",
        "ds = [] \r\n",
        "  \r\n",
        "for j in range(len(outer)): \r\n",
        "    similarity_index = 0\r\n",
        "    c = 0\r\n",
        "      \r\n",
        "    if check1 == outer[j]: \r\n",
        "        ds.append(0) \r\n",
        "    else: \r\n",
        "        for i in range(len(rvector)): \r\n",
        "  \r\n",
        "            c += check1[i]*outer[j][i] \r\n",
        "  \r\n",
        "        similarity_index += c \r\n",
        "        ds.append(similarity_index) \r\n",
        "  \r\n",
        "  \r\n",
        "ds \r\n",
        "maximum = max(ds) \r\n",
        "print() \r\n",
        "model = Word2Vec(s, size=25, window=3,min_count=1, sg=1)\r\n",
        "\r\n",
        "\r\n",
        "print() \r\n",
        "print(\"Similar sentences: \") \r\n",
        "for i in range(len(ds)): \r\n",
        "  \r\n",
        "    if ds[i] == maximum: \r\n",
        "        print(corpus[i]) "
      ],
      "execution_count": null,
      "outputs": [
        {
          "output_type": "stream",
          "text": [
            "Input: I love sings\n",
            "\n",
            "\n",
            "Similar sentences: \n",
            "I love this thing!\n",
            "I love this song!\n"
          ],
          "name": "stdout"
        }
      ]
    },
    {
      "cell_type": "code",
      "metadata": {
        "id": "lXHyaoAQXqE0"
      },
      "source": [
        ""
      ],
      "execution_count": null,
      "outputs": []
    },
    {
      "cell_type": "code",
      "metadata": {
        "id": "AqOBxNSMXqH1"
      },
      "source": [
        ""
      ],
      "execution_count": null,
      "outputs": []
    }
  ]
}